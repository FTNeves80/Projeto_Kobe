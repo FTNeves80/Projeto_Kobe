{
 "cells": [
  {
   "cell_type": "code",
   "execution_count": null,
   "metadata": {},
   "outputs": [],
   "source": [
    "#abrindo a sessao manualmente para funcinar no vcscod\n",
    "from kedro.framework.session import KedroSession\n",
    "session = KedroSession.create(project_path=\"../\")\n",
    "context = session.load_context()\n",
    "catalog = context.catalog"
   ]
  },
  {
   "cell_type": "code",
   "execution_count": 76,
   "metadata": {},
   "outputs": [
    {
     "data": {
      "text/html": [
       "<pre style=\"white-space:pre;overflow-x:auto;line-height:normal;font-family:Menlo,'DejaVu Sans Mono',consolas,'Courier New',monospace\"><span style=\"color: #7fbfbf; text-decoration-color: #7fbfbf\">[04/02/25 17:05:23] </span><span style=\"color: #000080; text-decoration-color: #000080\">INFO    </span> Loading data from <span style=\"color: #ff8700; text-decoration-color: #ff8700\">train_set</span> <span style=\"font-weight: bold\">(</span>ParquetDataset<span style=\"font-weight: bold\">)</span><span style=\"color: #808000; text-decoration-color: #808000\">...</span>                    <a href=\"file://c:\\Users\\Dell\\AppData\\Local\\Programs\\Python\\Python311\\Lib\\site-packages\\kedro\\io\\data_catalog.py\" target=\"_blank\"><span style=\"color: #7f7f7f; text-decoration-color: #7f7f7f\">data_catalog.py</span></a><span style=\"color: #7f7f7f; text-decoration-color: #7f7f7f\">:</span><a href=\"file://c:\\Users\\Dell\\AppData\\Local\\Programs\\Python\\Python311\\Lib\\site-packages\\kedro\\io\\data_catalog.py#401\" target=\"_blank\"><span style=\"color: #7f7f7f; text-decoration-color: #7f7f7f\">401</span></a>\n",
       "</pre>\n"
      ],
      "text/plain": [
       "\u001b[2;36m[04/02/25 17:05:23]\u001b[0m\u001b[2;36m \u001b[0m\u001b[34mINFO    \u001b[0m Loading data from \u001b[38;5;208mtrain_set\u001b[0m \u001b[1m(\u001b[0mParquetDataset\u001b[1m)\u001b[0m\u001b[33m...\u001b[0m                    \u001b]8;id=343594;file://c:\\Users\\Dell\\AppData\\Local\\Programs\\Python\\Python311\\Lib\\site-packages\\kedro\\io\\data_catalog.py\u001b\\\u001b[2mdata_catalog.py\u001b[0m\u001b]8;;\u001b\\\u001b[2m:\u001b[0m\u001b]8;id=536979;file://c:\\Users\\Dell\\AppData\\Local\\Programs\\Python\\Python311\\Lib\\site-packages\\kedro\\io\\data_catalog.py#401\u001b\\\u001b[2m401\u001b[0m\u001b]8;;\u001b\\\n"
      ]
     },
     "metadata": {},
     "output_type": "display_data"
    },
    {
     "data": {
      "text/html": [
       "<pre style=\"white-space:pre;overflow-x:auto;line-height:normal;font-family:Menlo,'DejaVu Sans Mono',consolas,'Courier New',monospace\"><span style=\"color: #7fbfbf; text-decoration-color: #7fbfbf\">                    </span><span style=\"color: #000080; text-decoration-color: #000080\">INFO    </span> Loading data from <span style=\"color: #ff8700; text-decoration-color: #ff8700\">params:session_id</span> <span style=\"font-weight: bold\">(</span>MemoryDataset<span style=\"font-weight: bold\">)</span><span style=\"color: #808000; text-decoration-color: #808000\">...</span>             <a href=\"file://c:\\Users\\Dell\\AppData\\Local\\Programs\\Python\\Python311\\Lib\\site-packages\\kedro\\io\\data_catalog.py\" target=\"_blank\"><span style=\"color: #7f7f7f; text-decoration-color: #7f7f7f\">data_catalog.py</span></a><span style=\"color: #7f7f7f; text-decoration-color: #7f7f7f\">:</span><a href=\"file://c:\\Users\\Dell\\AppData\\Local\\Programs\\Python\\Python311\\Lib\\site-packages\\kedro\\io\\data_catalog.py#401\" target=\"_blank\"><span style=\"color: #7f7f7f; text-decoration-color: #7f7f7f\">401</span></a>\n",
       "</pre>\n"
      ],
      "text/plain": [
       "\u001b[2;36m                   \u001b[0m\u001b[2;36m \u001b[0m\u001b[34mINFO    \u001b[0m Loading data from \u001b[38;5;208mparams:session_id\u001b[0m \u001b[1m(\u001b[0mMemoryDataset\u001b[1m)\u001b[0m\u001b[33m...\u001b[0m             \u001b]8;id=76145;file://c:\\Users\\Dell\\AppData\\Local\\Programs\\Python\\Python311\\Lib\\site-packages\\kedro\\io\\data_catalog.py\u001b\\\u001b[2mdata_catalog.py\u001b[0m\u001b]8;;\u001b\\\u001b[2m:\u001b[0m\u001b]8;id=877600;file://c:\\Users\\Dell\\AppData\\Local\\Programs\\Python\\Python311\\Lib\\site-packages\\kedro\\io\\data_catalog.py#401\u001b\\\u001b[2m401\u001b[0m\u001b]8;;\u001b\\\n"
      ]
     },
     "metadata": {},
     "output_type": "display_data"
    }
   ],
   "source": [
    "data_filtered = catalog.load(\"train_set\")\n",
    "session_id = catalog.load('params:session_id')"
   ]
  },
  {
   "cell_type": "code",
   "execution_count": 77,
   "metadata": {},
   "outputs": [],
   "source": [
    "from pycaret.classification import *"
   ]
  },
  {
   "cell_type": "code",
   "execution_count": 78,
   "metadata": {},
   "outputs": [
    {
     "data": {
      "text/html": [
       "<pre style=\"white-space:pre;overflow-x:auto;line-height:normal;font-family:Menlo,'DejaVu Sans Mono',consolas,'Courier New',monospace\"></pre>\n"
      ],
      "text/plain": []
     },
     "metadata": {},
     "output_type": "display_data"
    },
    {
     "data": {
      "text/html": [
       "<style type=\"text/css\">\n",
       "#T_d3c1d_row8_col1 {\n",
       "  background-color: lightgreen;\n",
       "}\n",
       "</style>\n",
       "<table id=\"T_d3c1d\">\n",
       "  <thead>\n",
       "    <tr>\n",
       "      <th class=\"blank level0\" >&nbsp;</th>\n",
       "      <th id=\"T_d3c1d_level0_col0\" class=\"col_heading level0 col0\" >Description</th>\n",
       "      <th id=\"T_d3c1d_level0_col1\" class=\"col_heading level0 col1\" >Value</th>\n",
       "    </tr>\n",
       "  </thead>\n",
       "  <tbody>\n",
       "    <tr>\n",
       "      <th id=\"T_d3c1d_level0_row0\" class=\"row_heading level0 row0\" >0</th>\n",
       "      <td id=\"T_d3c1d_row0_col0\" class=\"data row0 col0\" >Session id</td>\n",
       "      <td id=\"T_d3c1d_row0_col1\" class=\"data row0 col1\" >12345</td>\n",
       "    </tr>\n",
       "    <tr>\n",
       "      <th id=\"T_d3c1d_level0_row1\" class=\"row_heading level0 row1\" >1</th>\n",
       "      <td id=\"T_d3c1d_row1_col0\" class=\"data row1 col0\" >Target</td>\n",
       "      <td id=\"T_d3c1d_row1_col1\" class=\"data row1 col1\" >shot_made_flag</td>\n",
       "    </tr>\n",
       "    <tr>\n",
       "      <th id=\"T_d3c1d_level0_row2\" class=\"row_heading level0 row2\" >2</th>\n",
       "      <td id=\"T_d3c1d_row2_col0\" class=\"data row2 col0\" >Target type</td>\n",
       "      <td id=\"T_d3c1d_row2_col1\" class=\"data row2 col1\" >Binary</td>\n",
       "    </tr>\n",
       "    <tr>\n",
       "      <th id=\"T_d3c1d_level0_row3\" class=\"row_heading level0 row3\" >3</th>\n",
       "      <td id=\"T_d3c1d_row3_col0\" class=\"data row3 col0\" >Original data shape</td>\n",
       "      <td id=\"T_d3c1d_row3_col1\" class=\"data row3 col1\" >(16228, 7)</td>\n",
       "    </tr>\n",
       "    <tr>\n",
       "      <th id=\"T_d3c1d_level0_row4\" class=\"row_heading level0 row4\" >4</th>\n",
       "      <td id=\"T_d3c1d_row4_col0\" class=\"data row4 col0\" >Transformed data shape</td>\n",
       "      <td id=\"T_d3c1d_row4_col1\" class=\"data row4 col1\" >(16228, 7)</td>\n",
       "    </tr>\n",
       "    <tr>\n",
       "      <th id=\"T_d3c1d_level0_row5\" class=\"row_heading level0 row5\" >5</th>\n",
       "      <td id=\"T_d3c1d_row5_col0\" class=\"data row5 col0\" >Transformed train set shape</td>\n",
       "      <td id=\"T_d3c1d_row5_col1\" class=\"data row5 col1\" >(11359, 7)</td>\n",
       "    </tr>\n",
       "    <tr>\n",
       "      <th id=\"T_d3c1d_level0_row6\" class=\"row_heading level0 row6\" >6</th>\n",
       "      <td id=\"T_d3c1d_row6_col0\" class=\"data row6 col0\" >Transformed test set shape</td>\n",
       "      <td id=\"T_d3c1d_row6_col1\" class=\"data row6 col1\" >(4869, 7)</td>\n",
       "    </tr>\n",
       "    <tr>\n",
       "      <th id=\"T_d3c1d_level0_row7\" class=\"row_heading level0 row7\" >7</th>\n",
       "      <td id=\"T_d3c1d_row7_col0\" class=\"data row7 col0\" >Numeric features</td>\n",
       "      <td id=\"T_d3c1d_row7_col1\" class=\"data row7 col1\" >6</td>\n",
       "    </tr>\n",
       "    <tr>\n",
       "      <th id=\"T_d3c1d_level0_row8\" class=\"row_heading level0 row8\" >8</th>\n",
       "      <td id=\"T_d3c1d_row8_col0\" class=\"data row8 col0\" >Preprocess</td>\n",
       "      <td id=\"T_d3c1d_row8_col1\" class=\"data row8 col1\" >True</td>\n",
       "    </tr>\n",
       "    <tr>\n",
       "      <th id=\"T_d3c1d_level0_row9\" class=\"row_heading level0 row9\" >9</th>\n",
       "      <td id=\"T_d3c1d_row9_col0\" class=\"data row9 col0\" >Imputation type</td>\n",
       "      <td id=\"T_d3c1d_row9_col1\" class=\"data row9 col1\" >simple</td>\n",
       "    </tr>\n",
       "    <tr>\n",
       "      <th id=\"T_d3c1d_level0_row10\" class=\"row_heading level0 row10\" >10</th>\n",
       "      <td id=\"T_d3c1d_row10_col0\" class=\"data row10 col0\" >Numeric imputation</td>\n",
       "      <td id=\"T_d3c1d_row10_col1\" class=\"data row10 col1\" >mean</td>\n",
       "    </tr>\n",
       "    <tr>\n",
       "      <th id=\"T_d3c1d_level0_row11\" class=\"row_heading level0 row11\" >11</th>\n",
       "      <td id=\"T_d3c1d_row11_col0\" class=\"data row11 col0\" >Categorical imputation</td>\n",
       "      <td id=\"T_d3c1d_row11_col1\" class=\"data row11 col1\" >mode</td>\n",
       "    </tr>\n",
       "    <tr>\n",
       "      <th id=\"T_d3c1d_level0_row12\" class=\"row_heading level0 row12\" >12</th>\n",
       "      <td id=\"T_d3c1d_row12_col0\" class=\"data row12 col0\" >Fold Generator</td>\n",
       "      <td id=\"T_d3c1d_row12_col1\" class=\"data row12 col1\" >StratifiedKFold</td>\n",
       "    </tr>\n",
       "    <tr>\n",
       "      <th id=\"T_d3c1d_level0_row13\" class=\"row_heading level0 row13\" >13</th>\n",
       "      <td id=\"T_d3c1d_row13_col0\" class=\"data row13 col0\" >Fold Number</td>\n",
       "      <td id=\"T_d3c1d_row13_col1\" class=\"data row13 col1\" >10</td>\n",
       "    </tr>\n",
       "    <tr>\n",
       "      <th id=\"T_d3c1d_level0_row14\" class=\"row_heading level0 row14\" >14</th>\n",
       "      <td id=\"T_d3c1d_row14_col0\" class=\"data row14 col0\" >CPU Jobs</td>\n",
       "      <td id=\"T_d3c1d_row14_col1\" class=\"data row14 col1\" >-1</td>\n",
       "    </tr>\n",
       "    <tr>\n",
       "      <th id=\"T_d3c1d_level0_row15\" class=\"row_heading level0 row15\" >15</th>\n",
       "      <td id=\"T_d3c1d_row15_col0\" class=\"data row15 col0\" >Use GPU</td>\n",
       "      <td id=\"T_d3c1d_row15_col1\" class=\"data row15 col1\" >False</td>\n",
       "    </tr>\n",
       "    <tr>\n",
       "      <th id=\"T_d3c1d_level0_row16\" class=\"row_heading level0 row16\" >16</th>\n",
       "      <td id=\"T_d3c1d_row16_col0\" class=\"data row16 col0\" >Log Experiment</td>\n",
       "      <td id=\"T_d3c1d_row16_col1\" class=\"data row16 col1\" >False</td>\n",
       "    </tr>\n",
       "    <tr>\n",
       "      <th id=\"T_d3c1d_level0_row17\" class=\"row_heading level0 row17\" >17</th>\n",
       "      <td id=\"T_d3c1d_row17_col0\" class=\"data row17 col0\" >Experiment Name</td>\n",
       "      <td id=\"T_d3c1d_row17_col1\" class=\"data row17 col1\" >clf-default-name</td>\n",
       "    </tr>\n",
       "    <tr>\n",
       "      <th id=\"T_d3c1d_level0_row18\" class=\"row_heading level0 row18\" >18</th>\n",
       "      <td id=\"T_d3c1d_row18_col0\" class=\"data row18 col0\" >USI</td>\n",
       "      <td id=\"T_d3c1d_row18_col1\" class=\"data row18 col1\" >6a77</td>\n",
       "    </tr>\n",
       "  </tbody>\n",
       "</table>\n"
      ],
      "text/plain": [
       "\u001b[1m<\u001b[0m\u001b[1;95mpandas.io.formats.style.Styler\u001b[0m\u001b[39m object at \u001b[0m\u001b[1;36m0x0000020BD4D40650\u001b[0m\u001b[1m>\u001b[0m"
      ]
     },
     "metadata": {},
     "output_type": "display_data"
    },
    {
     "data": {
      "text/html": [
       "<pre style=\"white-space:pre;overflow-x:auto;line-height:normal;font-family:Menlo,'DejaVu Sans Mono',consolas,'Courier New',monospace\"></pre>\n"
      ],
      "text/plain": []
     },
     "metadata": {},
     "output_type": "display_data"
    },
    {
     "data": {
      "text/html": [
       "<pre style=\"white-space:pre;overflow-x:auto;line-height:normal;font-family:Menlo,'DejaVu Sans Mono',consolas,'Courier New',monospace\"></pre>\n"
      ],
      "text/plain": []
     },
     "metadata": {},
     "output_type": "display_data"
    },
    {
     "data": {
      "text/plain": [
       "\u001b[1m<\u001b[0m\u001b[1;95mpycaret.classification.oop.ClassificationExperiment\u001b[0m\u001b[39m object at \u001b[0m\u001b[1;36m0x0000020BD4129350\u001b[0m\u001b[1m>\u001b[0m"
      ]
     },
     "execution_count": 78,
     "metadata": {},
     "output_type": "execute_result"
    }
   ],
   "source": [
    "exp = ClassificationExperiment()\n",
    "#exp.setup(data=train, target='Survived', session_id=session_id, log_experiment='mlflow', experiment_name='titanic_pycaret')\n",
    "exp.setup(data=data_filtered, target='shot_made_flag', session_id=session_id)"
   ]
  },
  {
   "cell_type": "code",
   "execution_count": 79,
   "metadata": {},
   "outputs": [
    {
     "data": {
      "text/html": [
       "<pre style=\"white-space:pre;overflow-x:auto;line-height:normal;font-family:Menlo,'DejaVu Sans Mono',consolas,'Courier New',monospace\"></pre>\n"
      ],
      "text/plain": []
     },
     "metadata": {},
     "output_type": "display_data"
    },
    {
     "data": {
      "text/html": [
       "<div>\n",
       "<style scoped>\n",
       "    .dataframe tbody tr th:only-of-type {\n",
       "        vertical-align: middle;\n",
       "    }\n",
       "\n",
       "    .dataframe tbody tr th {\n",
       "        vertical-align: top;\n",
       "    }\n",
       "\n",
       "    .dataframe thead th {\n",
       "        text-align: right;\n",
       "    }\n",
       "</style>\n",
       "<table border=\"1\" class=\"dataframe\">\n",
       "  <thead>\n",
       "    <tr style=\"text-align: right;\">\n",
       "      <th></th>\n",
       "      <th>Name</th>\n",
       "      <th>Display Name</th>\n",
       "      <th>Score Function</th>\n",
       "      <th>Scorer</th>\n",
       "      <th>Target</th>\n",
       "      <th>Args</th>\n",
       "      <th>Greater is Better</th>\n",
       "      <th>Multiclass</th>\n",
       "      <th>Custom</th>\n",
       "    </tr>\n",
       "    <tr>\n",
       "      <th>ID</th>\n",
       "      <th></th>\n",
       "      <th></th>\n",
       "      <th></th>\n",
       "      <th></th>\n",
       "      <th></th>\n",
       "      <th></th>\n",
       "      <th></th>\n",
       "      <th></th>\n",
       "      <th></th>\n",
       "    </tr>\n",
       "  </thead>\n",
       "  <tbody>\n",
       "    <tr>\n",
       "      <th>acc</th>\n",
       "      <td>Accuracy</td>\n",
       "      <td>Accuracy</td>\n",
       "      <td>&lt;function accuracy_score at 0x0000020BC7A4C7C0&gt;</td>\n",
       "      <td>accuracy</td>\n",
       "      <td>pred</td>\n",
       "      <td>{}</td>\n",
       "      <td>True</td>\n",
       "      <td>True</td>\n",
       "      <td>False</td>\n",
       "    </tr>\n",
       "    <tr>\n",
       "      <th>auc</th>\n",
       "      <td>AUC</td>\n",
       "      <td>AUC</td>\n",
       "      <td>&lt;pycaret.internal.metrics.BinaryMulticlassScor...</td>\n",
       "      <td>make_scorer(roc_auc_score, response_method=('d...</td>\n",
       "      <td>pred_proba</td>\n",
       "      <td>{'average': 'weighted', 'multi_class': 'ovr'}</td>\n",
       "      <td>True</td>\n",
       "      <td>True</td>\n",
       "      <td>False</td>\n",
       "    </tr>\n",
       "    <tr>\n",
       "      <th>recall</th>\n",
       "      <td>Recall</td>\n",
       "      <td>Recall</td>\n",
       "      <td>&lt;pycaret.internal.metrics.BinaryMulticlassScor...</td>\n",
       "      <td>make_scorer(recall_score, response_method='pre...</td>\n",
       "      <td>pred</td>\n",
       "      <td>{'average': 'weighted'}</td>\n",
       "      <td>True</td>\n",
       "      <td>True</td>\n",
       "      <td>False</td>\n",
       "    </tr>\n",
       "    <tr>\n",
       "      <th>precision</th>\n",
       "      <td>Precision</td>\n",
       "      <td>Prec.</td>\n",
       "      <td>&lt;pycaret.internal.metrics.BinaryMulticlassScor...</td>\n",
       "      <td>make_scorer(precision_score, response_method='...</td>\n",
       "      <td>pred</td>\n",
       "      <td>{'average': 'weighted'}</td>\n",
       "      <td>True</td>\n",
       "      <td>True</td>\n",
       "      <td>False</td>\n",
       "    </tr>\n",
       "    <tr>\n",
       "      <th>f1</th>\n",
       "      <td>F1</td>\n",
       "      <td>F1</td>\n",
       "      <td>&lt;pycaret.internal.metrics.BinaryMulticlassScor...</td>\n",
       "      <td>make_scorer(f1_score, response_method='predict...</td>\n",
       "      <td>pred</td>\n",
       "      <td>{'average': 'weighted'}</td>\n",
       "      <td>True</td>\n",
       "      <td>True</td>\n",
       "      <td>False</td>\n",
       "    </tr>\n",
       "    <tr>\n",
       "      <th>kappa</th>\n",
       "      <td>Kappa</td>\n",
       "      <td>Kappa</td>\n",
       "      <td>&lt;function cohen_kappa_score at 0x0000020BC7A4C...</td>\n",
       "      <td>make_scorer(cohen_kappa_score, response_method...</td>\n",
       "      <td>pred</td>\n",
       "      <td>{}</td>\n",
       "      <td>True</td>\n",
       "      <td>True</td>\n",
       "      <td>False</td>\n",
       "    </tr>\n",
       "    <tr>\n",
       "      <th>mcc</th>\n",
       "      <td>MCC</td>\n",
       "      <td>MCC</td>\n",
       "      <td>&lt;function matthews_corrcoef at 0x0000020BC7A4C...</td>\n",
       "      <td>make_scorer(matthews_corrcoef, response_method...</td>\n",
       "      <td>pred</td>\n",
       "      <td>{}</td>\n",
       "      <td>True</td>\n",
       "      <td>True</td>\n",
       "      <td>False</td>\n",
       "    </tr>\n",
       "  </tbody>\n",
       "</table>\n",
       "</div>"
      ],
      "text/plain": [
       "\n",
       "                Name Display Name  \\\n",
       "ID                                  \n",
       "acc         Accuracy     Accuracy   \n",
       "auc              AUC          AUC   \n",
       "recall        Recall       Recall   \n",
       "precision  Precision        Prec.   \n",
       "f1                F1           F1   \n",
       "kappa          Kappa        Kappa   \n",
       "mcc              MCC          MCC   \n",
       "\n",
       "                                              Score Function  \\\n",
       "ID                                                             \n",
       "acc          \u001b[1m<\u001b[0m\u001b[1;95mfunction\u001b[0m\u001b[39m accuracy_score at \u001b[0m\u001b[1;36m0x0000020BC7A4C7C0\u001b[0m\u001b[1m>\u001b[0m   \n",
       "auc        <pycaret.internal.metrics.BinaryMulticlassScor\u001b[33m...\u001b[0m   \n",
       "recall     <pycaret.internal.metrics.BinaryMulticlassScor\u001b[33m...\u001b[0m   \n",
       "precision  <pycaret.internal.metrics.BinaryMulticlassScor\u001b[33m...\u001b[0m   \n",
       "f1         <pycaret.internal.metrics.BinaryMulticlassScor\u001b[33m...\u001b[0m   \n",
       "kappa      <function cohen_kappa_score at \u001b[1;36m0x0000020BC7A4C\u001b[0m\u001b[33m...\u001b[0m   \n",
       "mcc        <function matthews_corrcoef at \u001b[1;36m0x0000020BC7A4C\u001b[0m\u001b[33m...\u001b[0m   \n",
       "\n",
       "                                                      Scorer      Target  \\\n",
       "ID                                                                         \n",
       "acc                                                 accuracy        pred   \n",
       "auc        \u001b[1;35mmake_scorer\u001b[0m\u001b[1m(\u001b[0mroc_auc_score, \u001b[33mresponse_method\u001b[0m=\u001b[1m(\u001b[0m'd\u001b[33m...\u001b[0m  pred_proba   \n",
       "recall     \u001b[1;35mmake_scorer\u001b[0m\u001b[1m(\u001b[0mrecall_score, \u001b[33mresponse_method\u001b[0m='pre\u001b[33m...\u001b[0m        pred   \n",
       "precision  \u001b[1;35mmake_scorer\u001b[0m\u001b[1m(\u001b[0mprecision_score, \u001b[33mresponse_method\u001b[0m='\u001b[33m...\u001b[0m        pred   \n",
       "f1         \u001b[1;35mmake_scorer\u001b[0m\u001b[1m(\u001b[0mf1_score, \u001b[33mresponse_method\u001b[0m='predict\u001b[33m...\u001b[0m        pred   \n",
       "kappa      \u001b[1;35mmake_scorer\u001b[0m\u001b[1m(\u001b[0mcohen_kappa_score, response_method\u001b[33m...\u001b[0m        pred   \n",
       "mcc        \u001b[1;35mmake_scorer\u001b[0m\u001b[1m(\u001b[0mmatthews_corrcoef, response_method\u001b[33m...\u001b[0m        pred   \n",
       "\n",
       "                                                    Args  Greater is Better  \\\n",
       "ID                                                                            \n",
       "acc                                                   \u001b[1m{\u001b[0m\u001b[1m}\u001b[0m               \u001b[3;92mTrue\u001b[0m   \n",
       "auc        \u001b[1m{\u001b[0m\u001b[32m'average'\u001b[0m: \u001b[32m'weighted'\u001b[0m, \u001b[32m'multi_class'\u001b[0m: \u001b[32m'ovr'\u001b[0m\u001b[1m}\u001b[0m               \u001b[3;92mTrue\u001b[0m   \n",
       "recall                           \u001b[1m{\u001b[0m\u001b[32m'average'\u001b[0m: \u001b[32m'weighted'\u001b[0m\u001b[1m}\u001b[0m               \u001b[3;92mTrue\u001b[0m   \n",
       "precision                        \u001b[1m{\u001b[0m\u001b[32m'average'\u001b[0m: \u001b[32m'weighted'\u001b[0m\u001b[1m}\u001b[0m               \u001b[3;92mTrue\u001b[0m   \n",
       "f1                               \u001b[1m{\u001b[0m\u001b[32m'average'\u001b[0m: \u001b[32m'weighted'\u001b[0m\u001b[1m}\u001b[0m               \u001b[3;92mTrue\u001b[0m   \n",
       "kappa                                                 \u001b[1m{\u001b[0m\u001b[1m}\u001b[0m               \u001b[3;92mTrue\u001b[0m   \n",
       "mcc                                                   \u001b[1m{\u001b[0m\u001b[1m}\u001b[0m               \u001b[3;92mTrue\u001b[0m   \n",
       "\n",
       "           Multiclass  Custom  \n",
       "ID                             \n",
       "acc              \u001b[3;92mTrue\u001b[0m   \u001b[3;91mFalse\u001b[0m  \n",
       "auc              \u001b[3;92mTrue\u001b[0m   \u001b[3;91mFalse\u001b[0m  \n",
       "recall           \u001b[3;92mTrue\u001b[0m   \u001b[3;91mFalse\u001b[0m  \n",
       "precision        \u001b[3;92mTrue\u001b[0m   \u001b[3;91mFalse\u001b[0m  \n",
       "f1               \u001b[3;92mTrue\u001b[0m   \u001b[3;91mFalse\u001b[0m  \n",
       "kappa            \u001b[3;92mTrue\u001b[0m   \u001b[3;91mFalse\u001b[0m  \n",
       "mcc              \u001b[3;92mTrue\u001b[0m   \u001b[3;91mFalse\u001b[0m  "
      ]
     },
     "execution_count": 79,
     "metadata": {},
     "output_type": "execute_result"
    }
   ],
   "source": [
    "exp.get_metrics()"
   ]
  },
  {
   "cell_type": "code",
   "execution_count": 80,
   "metadata": {},
   "outputs": [
    {
     "data": {
      "text/html": [
       "<pre style=\"white-space:pre;overflow-x:auto;line-height:normal;font-family:Menlo,'DejaVu Sans Mono',consolas,'Courier New',monospace\"></pre>\n"
      ],
      "text/plain": []
     },
     "metadata": {},
     "output_type": "display_data"
    },
    {
     "data": {
      "text/html": [],
      "text/plain": [
       "\u001b[1m<\u001b[0m\u001b[1;95mIPython.core.display.HTML\u001b[0m\u001b[39m object\u001b[0m\u001b[1m>\u001b[0m"
      ]
     },
     "metadata": {},
     "output_type": "display_data"
    },
    {
     "data": {
      "text/html": [
       "<pre style=\"white-space:pre;overflow-x:auto;line-height:normal;font-family:Menlo,'DejaVu Sans Mono',consolas,'Courier New',monospace\"></pre>\n"
      ],
      "text/plain": []
     },
     "metadata": {},
     "output_type": "display_data"
    },
    {
     "data": {
      "text/html": [
       "<style type=\"text/css\">\n",
       "#T_35fab th {\n",
       "  text-align: left;\n",
       "}\n",
       "#T_35fab_row0_col0, #T_35fab_row0_col3, #T_35fab_row0_col5, #T_35fab_row0_col6, #T_35fab_row1_col0, #T_35fab_row1_col1, #T_35fab_row1_col2, #T_35fab_row1_col3, #T_35fab_row1_col4, #T_35fab_row1_col5, #T_35fab_row1_col7, #T_35fab_row2_col0, #T_35fab_row2_col1, #T_35fab_row2_col2, #T_35fab_row2_col3, #T_35fab_row2_col4, #T_35fab_row2_col5, #T_35fab_row2_col6, #T_35fab_row2_col7, #T_35fab_row3_col0, #T_35fab_row3_col1, #T_35fab_row3_col2, #T_35fab_row3_col3, #T_35fab_row3_col4, #T_35fab_row3_col5, #T_35fab_row3_col6, #T_35fab_row3_col7, #T_35fab_row4_col0, #T_35fab_row4_col1, #T_35fab_row4_col2, #T_35fab_row4_col3, #T_35fab_row4_col4, #T_35fab_row4_col5, #T_35fab_row4_col6, #T_35fab_row4_col7, #T_35fab_row5_col0, #T_35fab_row5_col1, #T_35fab_row5_col2, #T_35fab_row5_col3, #T_35fab_row5_col4, #T_35fab_row5_col5, #T_35fab_row5_col6, #T_35fab_row5_col7, #T_35fab_row6_col0, #T_35fab_row6_col1, #T_35fab_row6_col2, #T_35fab_row6_col4, #T_35fab_row6_col6, #T_35fab_row6_col7, #T_35fab_row7_col0, #T_35fab_row7_col1, #T_35fab_row7_col2, #T_35fab_row7_col3, #T_35fab_row7_col4, #T_35fab_row7_col5, #T_35fab_row7_col6, #T_35fab_row7_col7 {\n",
       "  text-align: left;\n",
       "}\n",
       "#T_35fab_row0_col1, #T_35fab_row0_col2, #T_35fab_row0_col4, #T_35fab_row0_col7, #T_35fab_row1_col6, #T_35fab_row6_col3, #T_35fab_row6_col5 {\n",
       "  text-align: left;\n",
       "  background-color: yellow;\n",
       "}\n",
       "#T_35fab_row0_col8, #T_35fab_row1_col8, #T_35fab_row2_col8, #T_35fab_row3_col8, #T_35fab_row4_col8, #T_35fab_row5_col8, #T_35fab_row6_col8 {\n",
       "  text-align: left;\n",
       "  background-color: lightgrey;\n",
       "}\n",
       "#T_35fab_row7_col8 {\n",
       "  text-align: left;\n",
       "  background-color: yellow;\n",
       "  background-color: lightgrey;\n",
       "}\n",
       "</style>\n",
       "<table id=\"T_35fab\">\n",
       "  <thead>\n",
       "    <tr>\n",
       "      <th class=\"blank level0\" >&nbsp;</th>\n",
       "      <th id=\"T_35fab_level0_col0\" class=\"col_heading level0 col0\" >Model</th>\n",
       "      <th id=\"T_35fab_level0_col1\" class=\"col_heading level0 col1\" >Accuracy</th>\n",
       "      <th id=\"T_35fab_level0_col2\" class=\"col_heading level0 col2\" >AUC</th>\n",
       "      <th id=\"T_35fab_level0_col3\" class=\"col_heading level0 col3\" >Recall</th>\n",
       "      <th id=\"T_35fab_level0_col4\" class=\"col_heading level0 col4\" >Prec.</th>\n",
       "      <th id=\"T_35fab_level0_col5\" class=\"col_heading level0 col5\" >F1</th>\n",
       "      <th id=\"T_35fab_level0_col6\" class=\"col_heading level0 col6\" >Kappa</th>\n",
       "      <th id=\"T_35fab_level0_col7\" class=\"col_heading level0 col7\" >MCC</th>\n",
       "      <th id=\"T_35fab_level0_col8\" class=\"col_heading level0 col8\" >TT (Sec)</th>\n",
       "    </tr>\n",
       "  </thead>\n",
       "  <tbody>\n",
       "    <tr>\n",
       "      <th id=\"T_35fab_level0_row0\" class=\"row_heading level0 row0\" >lr</th>\n",
       "      <td id=\"T_35fab_row0_col0\" class=\"data row0 col0\" >Logistic Regression</td>\n",
       "      <td id=\"T_35fab_row0_col1\" class=\"data row0 col1\" >0.5720</td>\n",
       "      <td id=\"T_35fab_row0_col2\" class=\"data row0 col2\" >0.5920</td>\n",
       "      <td id=\"T_35fab_row0_col3\" class=\"data row0 col3\" >0.4749</td>\n",
       "      <td id=\"T_35fab_row0_col4\" class=\"data row0 col4\" >0.5624</td>\n",
       "      <td id=\"T_35fab_row0_col5\" class=\"data row0 col5\" >0.5148</td>\n",
       "      <td id=\"T_35fab_row0_col6\" class=\"data row0 col6\" >0.1367</td>\n",
       "      <td id=\"T_35fab_row0_col7\" class=\"data row0 col7\" >0.1384</td>\n",
       "      <td id=\"T_35fab_row0_col8\" class=\"data row0 col8\" >0.9540</td>\n",
       "    </tr>\n",
       "    <tr>\n",
       "      <th id=\"T_35fab_level0_row1\" class=\"row_heading level0 row1\" >nb</th>\n",
       "      <td id=\"T_35fab_row1_col0\" class=\"data row1 col0\" >Naive Bayes</td>\n",
       "      <td id=\"T_35fab_row1_col1\" class=\"data row1 col1\" >0.5714</td>\n",
       "      <td id=\"T_35fab_row1_col2\" class=\"data row1 col2\" >0.5902</td>\n",
       "      <td id=\"T_35fab_row1_col3\" class=\"data row1 col3\" >0.4960</td>\n",
       "      <td id=\"T_35fab_row1_col4\" class=\"data row1 col4\" >0.5585</td>\n",
       "      <td id=\"T_35fab_row1_col5\" class=\"data row1 col5\" >0.5253</td>\n",
       "      <td id=\"T_35fab_row1_col6\" class=\"data row1 col6\" >0.1371</td>\n",
       "      <td id=\"T_35fab_row1_col7\" class=\"data row1 col7\" >0.1379</td>\n",
       "      <td id=\"T_35fab_row1_col8\" class=\"data row1 col8\" >0.0310</td>\n",
       "    </tr>\n",
       "    <tr>\n",
       "      <th id=\"T_35fab_level0_row2\" class=\"row_heading level0 row2\" >svm</th>\n",
       "      <td id=\"T_35fab_row2_col0\" class=\"data row2 col0\" >SVM - Linear Kernel</td>\n",
       "      <td id=\"T_35fab_row2_col1\" class=\"data row2 col1\" >0.5207</td>\n",
       "      <td id=\"T_35fab_row2_col2\" class=\"data row2 col2\" >0.5891</td>\n",
       "      <td id=\"T_35fab_row2_col3\" class=\"data row2 col3\" >0.3968</td>\n",
       "      <td id=\"T_35fab_row2_col4\" class=\"data row2 col4\" >0.3275</td>\n",
       "      <td id=\"T_35fab_row2_col5\" class=\"data row2 col5\" >0.3129</td>\n",
       "      <td id=\"T_35fab_row2_col6\" class=\"data row2 col6\" >0.0311</td>\n",
       "      <td id=\"T_35fab_row2_col7\" class=\"data row2 col7\" >0.0443</td>\n",
       "      <td id=\"T_35fab_row2_col8\" class=\"data row2 col8\" >0.0650</td>\n",
       "    </tr>\n",
       "    <tr>\n",
       "      <th id=\"T_35fab_level0_row3\" class=\"row_heading level0 row3\" >rf</th>\n",
       "      <td id=\"T_35fab_row3_col0\" class=\"data row3 col0\" >Random Forest Classifier</td>\n",
       "      <td id=\"T_35fab_row3_col1\" class=\"data row3 col1\" >0.5612</td>\n",
       "      <td id=\"T_35fab_row3_col2\" class=\"data row3 col2\" >0.5702</td>\n",
       "      <td id=\"T_35fab_row3_col3\" class=\"data row3 col3\" >0.5331</td>\n",
       "      <td id=\"T_35fab_row3_col4\" class=\"data row3 col4\" >0.5418</td>\n",
       "      <td id=\"T_35fab_row3_col5\" class=\"data row3 col5\" >0.5373</td>\n",
       "      <td id=\"T_35fab_row3_col6\" class=\"data row3 col6\" >0.1202</td>\n",
       "      <td id=\"T_35fab_row3_col7\" class=\"data row3 col7\" >0.1202</td>\n",
       "      <td id=\"T_35fab_row3_col8\" class=\"data row3 col8\" >0.3570</td>\n",
       "    </tr>\n",
       "    <tr>\n",
       "      <th id=\"T_35fab_level0_row4\" class=\"row_heading level0 row4\" >et</th>\n",
       "      <td id=\"T_35fab_row4_col0\" class=\"data row4 col0\" >Extra Trees Classifier</td>\n",
       "      <td id=\"T_35fab_row4_col1\" class=\"data row4 col1\" >0.5626</td>\n",
       "      <td id=\"T_35fab_row4_col2\" class=\"data row4 col2\" >0.5620</td>\n",
       "      <td id=\"T_35fab_row4_col3\" class=\"data row4 col3\" >0.5518</td>\n",
       "      <td id=\"T_35fab_row4_col4\" class=\"data row4 col4\" >0.5419</td>\n",
       "      <td id=\"T_35fab_row4_col5\" class=\"data row4 col5\" >0.5467</td>\n",
       "      <td id=\"T_35fab_row4_col6\" class=\"data row4 col6\" >0.1243</td>\n",
       "      <td id=\"T_35fab_row4_col7\" class=\"data row4 col7\" >0.1243</td>\n",
       "      <td id=\"T_35fab_row4_col8\" class=\"data row4 col8\" >0.3020</td>\n",
       "    </tr>\n",
       "    <tr>\n",
       "      <th id=\"T_35fab_level0_row5\" class=\"row_heading level0 row5\" >knn</th>\n",
       "      <td id=\"T_35fab_row5_col0\" class=\"data row5 col0\" >K Neighbors Classifier</td>\n",
       "      <td id=\"T_35fab_row5_col1\" class=\"data row5 col1\" >0.5365</td>\n",
       "      <td id=\"T_35fab_row5_col2\" class=\"data row5 col2\" >0.5401</td>\n",
       "      <td id=\"T_35fab_row5_col3\" class=\"data row5 col3\" >0.5010</td>\n",
       "      <td id=\"T_35fab_row5_col4\" class=\"data row5 col4\" >0.5158</td>\n",
       "      <td id=\"T_35fab_row5_col5\" class=\"data row5 col5\" >0.5080</td>\n",
       "      <td id=\"T_35fab_row5_col6\" class=\"data row5 col6\" >0.0701</td>\n",
       "      <td id=\"T_35fab_row5_col7\" class=\"data row5 col7\" >0.0702</td>\n",
       "      <td id=\"T_35fab_row5_col8\" class=\"data row5 col8\" >0.0610</td>\n",
       "    </tr>\n",
       "    <tr>\n",
       "      <th id=\"T_35fab_level0_row6\" class=\"row_heading level0 row6\" >dt</th>\n",
       "      <td id=\"T_35fab_row6_col0\" class=\"data row6 col0\" >Decision Tree Classifier</td>\n",
       "      <td id=\"T_35fab_row6_col1\" class=\"data row6 col1\" >0.5397</td>\n",
       "      <td id=\"T_35fab_row6_col2\" class=\"data row6 col2\" >0.5224</td>\n",
       "      <td id=\"T_35fab_row6_col3\" class=\"data row6 col3\" >0.5811</td>\n",
       "      <td id=\"T_35fab_row6_col4\" class=\"data row6 col4\" >0.5164</td>\n",
       "      <td id=\"T_35fab_row6_col5\" class=\"data row6 col5\" >0.5468</td>\n",
       "      <td id=\"T_35fab_row6_col6\" class=\"data row6 col6\" >0.0824</td>\n",
       "      <td id=\"T_35fab_row6_col7\" class=\"data row6 col7\" >0.0830</td>\n",
       "      <td id=\"T_35fab_row6_col8\" class=\"data row6 col8\" >0.0390</td>\n",
       "    </tr>\n",
       "    <tr>\n",
       "      <th id=\"T_35fab_level0_row7\" class=\"row_heading level0 row7\" >dummy</th>\n",
       "      <td id=\"T_35fab_row7_col0\" class=\"data row7 col0\" >Dummy Classifier</td>\n",
       "      <td id=\"T_35fab_row7_col1\" class=\"data row7 col1\" >0.5219</td>\n",
       "      <td id=\"T_35fab_row7_col2\" class=\"data row7 col2\" >0.5000</td>\n",
       "      <td id=\"T_35fab_row7_col3\" class=\"data row7 col3\" >0.0000</td>\n",
       "      <td id=\"T_35fab_row7_col4\" class=\"data row7 col4\" >0.0000</td>\n",
       "      <td id=\"T_35fab_row7_col5\" class=\"data row7 col5\" >0.0000</td>\n",
       "      <td id=\"T_35fab_row7_col6\" class=\"data row7 col6\" >0.0000</td>\n",
       "      <td id=\"T_35fab_row7_col7\" class=\"data row7 col7\" >0.0000</td>\n",
       "      <td id=\"T_35fab_row7_col8\" class=\"data row7 col8\" >0.0180</td>\n",
       "    </tr>\n",
       "  </tbody>\n",
       "</table>\n"
      ],
      "text/plain": [
       "\u001b[1m<\u001b[0m\u001b[1;95mpandas.io.formats.style.Styler\u001b[0m\u001b[39m object at \u001b[0m\u001b[1;36m0x0000020BD451AE10\u001b[0m\u001b[1m>\u001b[0m"
      ]
     },
     "metadata": {},
     "output_type": "display_data"
    },
    {
     "data": {
      "text/html": [],
      "text/plain": [
       "\u001b[1m<\u001b[0m\u001b[1;95mIPython.core.display.HTML\u001b[0m\u001b[39m object\u001b[0m\u001b[1m>\u001b[0m"
      ]
     },
     "metadata": {},
     "output_type": "display_data"
    },
    {
     "data": {
      "text/html": [
       "<pre style=\"white-space:pre;overflow-x:auto;line-height:normal;font-family:Menlo,'DejaVu Sans Mono',consolas,'Courier New',monospace\"></pre>\n"
      ],
      "text/plain": []
     },
     "metadata": {},
     "output_type": "display_data"
    },
    {
     "data": {
      "text/html": [
       "<pre style=\"white-space:pre;overflow-x:auto;line-height:normal;font-family:Menlo,'DejaVu Sans Mono',consolas,'Courier New',monospace\"></pre>\n"
      ],
      "text/plain": []
     },
     "metadata": {},
     "output_type": "display_data"
    },
    {
     "data": {
      "text/html": [
       "<pre style=\"white-space:pre;overflow-x:auto;line-height:normal;font-family:Menlo,'DejaVu Sans Mono',consolas,'Courier New',monospace\"></pre>\n"
      ],
      "text/plain": []
     },
     "metadata": {},
     "output_type": "display_data"
    },
    {
     "data": {
      "text/html": [
       "<pre style=\"white-space:pre;overflow-x:auto;line-height:normal;font-family:Menlo,'DejaVu Sans Mono',consolas,'Courier New',monospace\"></pre>\n"
      ],
      "text/plain": []
     },
     "metadata": {},
     "output_type": "display_data"
    },
    {
     "data": {
      "text/html": [
       "<pre style=\"white-space:pre;overflow-x:auto;line-height:normal;font-family:Menlo,'DejaVu Sans Mono',consolas,'Courier New',monospace\"></pre>\n"
      ],
      "text/plain": []
     },
     "metadata": {},
     "output_type": "display_data"
    },
    {
     "data": {
      "text/html": [
       "<pre style=\"white-space:pre;overflow-x:auto;line-height:normal;font-family:Menlo,'DejaVu Sans Mono',consolas,'Courier New',monospace\"></pre>\n"
      ],
      "text/plain": []
     },
     "metadata": {},
     "output_type": "display_data"
    },
    {
     "data": {
      "text/html": [
       "<pre style=\"white-space:pre;overflow-x:auto;line-height:normal;font-family:Menlo,'DejaVu Sans Mono',consolas,'Courier New',monospace\"></pre>\n"
      ],
      "text/plain": []
     },
     "metadata": {},
     "output_type": "display_data"
    },
    {
     "data": {
      "text/html": [
       "<pre style=\"white-space:pre;overflow-x:auto;line-height:normal;font-family:Menlo,'DejaVu Sans Mono',consolas,'Courier New',monospace\"></pre>\n"
      ],
      "text/plain": []
     },
     "metadata": {},
     "output_type": "display_data"
    },
    {
     "data": {
      "text/html": [
       "<pre style=\"white-space:pre;overflow-x:auto;line-height:normal;font-family:Menlo,'DejaVu Sans Mono',consolas,'Courier New',monospace\"></pre>\n"
      ],
      "text/plain": []
     },
     "metadata": {},
     "output_type": "display_data"
    },
    {
     "data": {
      "text/html": [
       "<pre style=\"white-space:pre;overflow-x:auto;line-height:normal;font-family:Menlo,'DejaVu Sans Mono',consolas,'Courier New',monospace\"></pre>\n"
      ],
      "text/plain": []
     },
     "metadata": {},
     "output_type": "display_data"
    },
    {
     "data": {
      "text/html": [
       "<pre style=\"white-space:pre;overflow-x:auto;line-height:normal;font-family:Menlo,'DejaVu Sans Mono',consolas,'Courier New',monospace\"></pre>\n"
      ],
      "text/plain": []
     },
     "metadata": {},
     "output_type": "display_data"
    },
    {
     "data": {
      "text/html": [
       "<pre style=\"white-space:pre;overflow-x:auto;line-height:normal;font-family:Menlo,'DejaVu Sans Mono',consolas,'Courier New',monospace\"></pre>\n"
      ],
      "text/plain": []
     },
     "metadata": {},
     "output_type": "display_data"
    },
    {
     "data": {
      "text/html": [
       "<pre style=\"white-space:pre;overflow-x:auto;line-height:normal;font-family:Menlo,'DejaVu Sans Mono',consolas,'Courier New',monospace\"></pre>\n"
      ],
      "text/plain": []
     },
     "metadata": {},
     "output_type": "display_data"
    },
    {
     "data": {
      "text/html": [
       "<pre style=\"white-space:pre;overflow-x:auto;line-height:normal;font-family:Menlo,'DejaVu Sans Mono',consolas,'Courier New',monospace\"></pre>\n"
      ],
      "text/plain": []
     },
     "metadata": {},
     "output_type": "display_data"
    },
    {
     "data": {
      "text/html": [
       "<pre style=\"white-space:pre;overflow-x:auto;line-height:normal;font-family:Menlo,'DejaVu Sans Mono',consolas,'Courier New',monospace\"></pre>\n"
      ],
      "text/plain": []
     },
     "metadata": {},
     "output_type": "display_data"
    },
    {
     "data": {
      "text/html": [
       "<pre style=\"white-space:pre;overflow-x:auto;line-height:normal;font-family:Menlo,'DejaVu Sans Mono',consolas,'Courier New',monospace\"></pre>\n"
      ],
      "text/plain": []
     },
     "metadata": {},
     "output_type": "display_data"
    },
    {
     "data": {
      "text/html": [
       "<pre style=\"white-space:pre;overflow-x:auto;line-height:normal;font-family:Menlo,'DejaVu Sans Mono',consolas,'Courier New',monospace\"></pre>\n"
      ],
      "text/plain": []
     },
     "metadata": {},
     "output_type": "display_data"
    },
    {
     "data": {
      "text/html": [
       "<pre style=\"white-space:pre;overflow-x:auto;line-height:normal;font-family:Menlo,'DejaVu Sans Mono',consolas,'Courier New',monospace\"></pre>\n"
      ],
      "text/plain": []
     },
     "metadata": {},
     "output_type": "display_data"
    },
    {
     "data": {
      "text/html": [
       "<pre style=\"white-space:pre;overflow-x:auto;line-height:normal;font-family:Menlo,'DejaVu Sans Mono',consolas,'Courier New',monospace\"></pre>\n"
      ],
      "text/plain": []
     },
     "metadata": {},
     "output_type": "display_data"
    },
    {
     "data": {
      "text/html": [
       "<pre style=\"white-space:pre;overflow-x:auto;line-height:normal;font-family:Menlo,'DejaVu Sans Mono',consolas,'Courier New',monospace\"></pre>\n"
      ],
      "text/plain": []
     },
     "metadata": {},
     "output_type": "display_data"
    },
    {
     "data": {
      "text/html": [
       "<pre style=\"white-space:pre;overflow-x:auto;line-height:normal;font-family:Menlo,'DejaVu Sans Mono',consolas,'Courier New',monospace\"></pre>\n"
      ],
      "text/plain": []
     },
     "metadata": {},
     "output_type": "display_data"
    },
    {
     "data": {
      "text/html": [
       "<pre style=\"white-space:pre;overflow-x:auto;line-height:normal;font-family:Menlo,'DejaVu Sans Mono',consolas,'Courier New',monospace\"></pre>\n"
      ],
      "text/plain": []
     },
     "metadata": {},
     "output_type": "display_data"
    },
    {
     "data": {
      "text/html": [
       "<pre style=\"white-space:pre;overflow-x:auto;line-height:normal;font-family:Menlo,'DejaVu Sans Mono',consolas,'Courier New',monospace\"></pre>\n"
      ],
      "text/plain": []
     },
     "metadata": {},
     "output_type": "display_data"
    },
    {
     "data": {
      "text/html": [
       "<pre style=\"white-space:pre;overflow-x:auto;line-height:normal;font-family:Menlo,'DejaVu Sans Mono',consolas,'Courier New',monospace\"></pre>\n"
      ],
      "text/plain": []
     },
     "metadata": {},
     "output_type": "display_data"
    },
    {
     "data": {
      "text/html": [
       "<pre style=\"white-space:pre;overflow-x:auto;line-height:normal;font-family:Menlo,'DejaVu Sans Mono',consolas,'Courier New',monospace\"></pre>\n"
      ],
      "text/plain": []
     },
     "metadata": {},
     "output_type": "display_data"
    },
    {
     "data": {
      "text/html": [
       "<pre style=\"white-space:pre;overflow-x:auto;line-height:normal;font-family:Menlo,'DejaVu Sans Mono',consolas,'Courier New',monospace\"></pre>\n"
      ],
      "text/plain": []
     },
     "metadata": {},
     "output_type": "display_data"
    },
    {
     "data": {
      "text/html": [
       "<pre style=\"white-space:pre;overflow-x:auto;line-height:normal;font-family:Menlo,'DejaVu Sans Mono',consolas,'Courier New',monospace\"></pre>\n"
      ],
      "text/plain": []
     },
     "metadata": {},
     "output_type": "display_data"
    },
    {
     "data": {
      "text/html": [
       "<pre style=\"white-space:pre;overflow-x:auto;line-height:normal;font-family:Menlo,'DejaVu Sans Mono',consolas,'Courier New',monospace\"></pre>\n"
      ],
      "text/plain": []
     },
     "metadata": {},
     "output_type": "display_data"
    },
    {
     "data": {
      "text/html": [
       "<pre style=\"white-space:pre;overflow-x:auto;line-height:normal;font-family:Menlo,'DejaVu Sans Mono',consolas,'Courier New',monospace\"></pre>\n"
      ],
      "text/plain": []
     },
     "metadata": {},
     "output_type": "display_data"
    },
    {
     "data": {
      "text/html": [
       "<pre style=\"white-space:pre;overflow-x:auto;line-height:normal;font-family:Menlo,'DejaVu Sans Mono',consolas,'Courier New',monospace\"></pre>\n"
      ],
      "text/plain": []
     },
     "metadata": {},
     "output_type": "display_data"
    },
    {
     "data": {
      "text/html": [
       "<pre style=\"white-space:pre;overflow-x:auto;line-height:normal;font-family:Menlo,'DejaVu Sans Mono',consolas,'Courier New',monospace\"></pre>\n"
      ],
      "text/plain": []
     },
     "metadata": {},
     "output_type": "display_data"
    },
    {
     "data": {
      "text/html": [
       "<pre style=\"white-space:pre;overflow-x:auto;line-height:normal;font-family:Menlo,'DejaVu Sans Mono',consolas,'Courier New',monospace\"></pre>\n"
      ],
      "text/plain": []
     },
     "metadata": {},
     "output_type": "display_data"
    },
    {
     "data": {
      "text/html": [
       "<pre style=\"white-space:pre;overflow-x:auto;line-height:normal;font-family:Menlo,'DejaVu Sans Mono',consolas,'Courier New',monospace\"></pre>\n"
      ],
      "text/plain": []
     },
     "metadata": {},
     "output_type": "display_data"
    },
    {
     "data": {
      "text/html": [
       "<pre style=\"white-space:pre;overflow-x:auto;line-height:normal;font-family:Menlo,'DejaVu Sans Mono',consolas,'Courier New',monospace\"></pre>\n"
      ],
      "text/plain": []
     },
     "metadata": {},
     "output_type": "display_data"
    },
    {
     "data": {
      "text/html": [
       "<pre style=\"white-space:pre;overflow-x:auto;line-height:normal;font-family:Menlo,'DejaVu Sans Mono',consolas,'Courier New',monospace\"></pre>\n"
      ],
      "text/plain": []
     },
     "metadata": {},
     "output_type": "display_data"
    },
    {
     "data": {
      "text/html": [
       "<pre style=\"white-space:pre;overflow-x:auto;line-height:normal;font-family:Menlo,'DejaVu Sans Mono',consolas,'Courier New',monospace\"></pre>\n"
      ],
      "text/plain": []
     },
     "metadata": {},
     "output_type": "display_data"
    },
    {
     "data": {
      "text/html": [
       "<pre style=\"white-space:pre;overflow-x:auto;line-height:normal;font-family:Menlo,'DejaVu Sans Mono',consolas,'Courier New',monospace\"></pre>\n"
      ],
      "text/plain": []
     },
     "metadata": {},
     "output_type": "display_data"
    },
    {
     "data": {
      "text/html": [
       "<pre style=\"white-space:pre;overflow-x:auto;line-height:normal;font-family:Menlo,'DejaVu Sans Mono',consolas,'Courier New',monospace\"></pre>\n"
      ],
      "text/plain": []
     },
     "metadata": {},
     "output_type": "display_data"
    },
    {
     "data": {
      "text/html": [
       "<pre style=\"white-space:pre;overflow-x:auto;line-height:normal;font-family:Menlo,'DejaVu Sans Mono',consolas,'Courier New',monospace\"></pre>\n"
      ],
      "text/plain": []
     },
     "metadata": {},
     "output_type": "display_data"
    },
    {
     "data": {
      "text/html": [
       "<pre style=\"white-space:pre;overflow-x:auto;line-height:normal;font-family:Menlo,'DejaVu Sans Mono',consolas,'Courier New',monospace\"></pre>\n"
      ],
      "text/plain": []
     },
     "metadata": {},
     "output_type": "display_data"
    },
    {
     "data": {
      "text/html": [
       "<pre style=\"white-space:pre;overflow-x:auto;line-height:normal;font-family:Menlo,'DejaVu Sans Mono',consolas,'Courier New',monospace\"></pre>\n"
      ],
      "text/plain": []
     },
     "metadata": {},
     "output_type": "display_data"
    },
    {
     "data": {
      "text/html": [
       "<pre style=\"white-space:pre;overflow-x:auto;line-height:normal;font-family:Menlo,'DejaVu Sans Mono',consolas,'Courier New',monospace\"></pre>\n"
      ],
      "text/plain": []
     },
     "metadata": {},
     "output_type": "display_data"
    },
    {
     "data": {
      "text/html": [
       "<pre style=\"white-space:pre;overflow-x:auto;line-height:normal;font-family:Menlo,'DejaVu Sans Mono',consolas,'Courier New',monospace\"></pre>\n"
      ],
      "text/plain": []
     },
     "metadata": {},
     "output_type": "display_data"
    },
    {
     "data": {
      "text/html": [
       "<pre style=\"white-space:pre;overflow-x:auto;line-height:normal;font-family:Menlo,'DejaVu Sans Mono',consolas,'Courier New',monospace\"></pre>\n"
      ],
      "text/plain": []
     },
     "metadata": {},
     "output_type": "display_data"
    },
    {
     "data": {
      "text/html": [
       "<pre style=\"white-space:pre;overflow-x:auto;line-height:normal;font-family:Menlo,'DejaVu Sans Mono',consolas,'Courier New',monospace\"></pre>\n"
      ],
      "text/plain": []
     },
     "metadata": {},
     "output_type": "display_data"
    },
    {
     "data": {
      "text/html": [
       "<pre style=\"white-space:pre;overflow-x:auto;line-height:normal;font-family:Menlo,'DejaVu Sans Mono',consolas,'Courier New',monospace\"></pre>\n"
      ],
      "text/plain": []
     },
     "metadata": {},
     "output_type": "display_data"
    },
    {
     "data": {
      "text/html": [
       "<pre style=\"white-space:pre;overflow-x:auto;line-height:normal;font-family:Menlo,'DejaVu Sans Mono',consolas,'Courier New',monospace\"></pre>\n"
      ],
      "text/plain": []
     },
     "metadata": {},
     "output_type": "display_data"
    },
    {
     "data": {
      "text/html": [
       "<pre style=\"white-space:pre;overflow-x:auto;line-height:normal;font-family:Menlo,'DejaVu Sans Mono',consolas,'Courier New',monospace\"></pre>\n"
      ],
      "text/plain": []
     },
     "metadata": {},
     "output_type": "display_data"
    },
    {
     "data": {
      "text/html": [
       "<pre style=\"white-space:pre;overflow-x:auto;line-height:normal;font-family:Menlo,'DejaVu Sans Mono',consolas,'Courier New',monospace\"></pre>\n"
      ],
      "text/plain": []
     },
     "metadata": {},
     "output_type": "display_data"
    },
    {
     "data": {
      "text/html": [
       "<pre style=\"white-space:pre;overflow-x:auto;line-height:normal;font-family:Menlo,'DejaVu Sans Mono',consolas,'Courier New',monospace\"></pre>\n"
      ],
      "text/plain": []
     },
     "metadata": {},
     "output_type": "display_data"
    },
    {
     "data": {
      "text/html": [
       "<pre style=\"white-space:pre;overflow-x:auto;line-height:normal;font-family:Menlo,'DejaVu Sans Mono',consolas,'Courier New',monospace\"></pre>\n"
      ],
      "text/plain": []
     },
     "metadata": {},
     "output_type": "display_data"
    },
    {
     "data": {
      "text/html": [
       "<pre style=\"white-space:pre;overflow-x:auto;line-height:normal;font-family:Menlo,'DejaVu Sans Mono',consolas,'Courier New',monospace\"></pre>\n"
      ],
      "text/plain": []
     },
     "metadata": {},
     "output_type": "display_data"
    },
    {
     "data": {
      "text/html": [
       "<pre style=\"white-space:pre;overflow-x:auto;line-height:normal;font-family:Menlo,'DejaVu Sans Mono',consolas,'Courier New',monospace\"></pre>\n"
      ],
      "text/plain": []
     },
     "metadata": {},
     "output_type": "display_data"
    },
    {
     "data": {
      "text/html": [
       "<pre style=\"white-space:pre;overflow-x:auto;line-height:normal;font-family:Menlo,'DejaVu Sans Mono',consolas,'Courier New',monospace\"></pre>\n"
      ],
      "text/plain": []
     },
     "metadata": {},
     "output_type": "display_data"
    },
    {
     "data": {
      "text/html": [
       "<pre style=\"white-space:pre;overflow-x:auto;line-height:normal;font-family:Menlo,'DejaVu Sans Mono',consolas,'Courier New',monospace\"></pre>\n"
      ],
      "text/plain": []
     },
     "metadata": {},
     "output_type": "display_data"
    },
    {
     "data": {
      "text/html": [
       "<pre style=\"white-space:pre;overflow-x:auto;line-height:normal;font-family:Menlo,'DejaVu Sans Mono',consolas,'Courier New',monospace\"></pre>\n"
      ],
      "text/plain": []
     },
     "metadata": {},
     "output_type": "display_data"
    },
    {
     "data": {
      "text/html": [
       "<pre style=\"white-space:pre;overflow-x:auto;line-height:normal;font-family:Menlo,'DejaVu Sans Mono',consolas,'Courier New',monospace\"></pre>\n"
      ],
      "text/plain": []
     },
     "metadata": {},
     "output_type": "display_data"
    }
   ],
   "source": [
    "#criando uma seleçao de models\n",
    "#include = [\"lr\", \"ridge\", \"lda\", \"qda\", \"nb\", \"rf\", \"et\", \"knn\", \"dt\", \"svm\", \"dummy\"]\n",
    "include = [\"lr\",\"nb\", \"rf\", \"et\", \"knn\", \"dt\", \"svm\", \"dummy\"]\n",
    "\n",
    "#include = [\"lr\", \"knn\", \"dt\", \"svm\", \"dummy\"]\n",
    "\n",
    "best = exp.compare_models(include=include, sort=\"AUC\")\n",
    "#best = exp.compare_models(sort=\"AUC\")"
   ]
  },
  {
   "cell_type": "code",
   "execution_count": 81,
   "metadata": {},
   "outputs": [
    {
     "data": {
      "text/html": [
       "<pre style=\"white-space:pre;overflow-x:auto;line-height:normal;font-family:Menlo,'DejaVu Sans Mono',consolas,'Courier New',monospace\"></pre>\n"
      ],
      "text/plain": []
     },
     "metadata": {},
     "output_type": "display_data"
    },
    {
     "data": {
      "text/html": [
       "<div>\n",
       "<style scoped>\n",
       "    .dataframe tbody tr th:only-of-type {\n",
       "        vertical-align: middle;\n",
       "    }\n",
       "\n",
       "    .dataframe tbody tr th {\n",
       "        vertical-align: top;\n",
       "    }\n",
       "\n",
       "    .dataframe thead th {\n",
       "        text-align: right;\n",
       "    }\n",
       "</style>\n",
       "<table border=\"1\" class=\"dataframe\">\n",
       "  <thead>\n",
       "    <tr style=\"text-align: right;\">\n",
       "      <th></th>\n",
       "      <th>Model</th>\n",
       "      <th>Accuracy</th>\n",
       "      <th>AUC</th>\n",
       "      <th>Recall</th>\n",
       "      <th>Prec.</th>\n",
       "      <th>F1</th>\n",
       "      <th>Kappa</th>\n",
       "      <th>MCC</th>\n",
       "      <th>TT (Sec)</th>\n",
       "    </tr>\n",
       "  </thead>\n",
       "  <tbody>\n",
       "    <tr>\n",
       "      <th>lr</th>\n",
       "      <td>Logistic Regression</td>\n",
       "      <td>0.5720</td>\n",
       "      <td>0.5920</td>\n",
       "      <td>0.4749</td>\n",
       "      <td>0.5624</td>\n",
       "      <td>0.5148</td>\n",
       "      <td>0.1367</td>\n",
       "      <td>0.1384</td>\n",
       "      <td>0.954</td>\n",
       "    </tr>\n",
       "    <tr>\n",
       "      <th>nb</th>\n",
       "      <td>Naive Bayes</td>\n",
       "      <td>0.5714</td>\n",
       "      <td>0.5902</td>\n",
       "      <td>0.4960</td>\n",
       "      <td>0.5585</td>\n",
       "      <td>0.5253</td>\n",
       "      <td>0.1371</td>\n",
       "      <td>0.1379</td>\n",
       "      <td>0.031</td>\n",
       "    </tr>\n",
       "    <tr>\n",
       "      <th>svm</th>\n",
       "      <td>SVM - Linear Kernel</td>\n",
       "      <td>0.5207</td>\n",
       "      <td>0.5891</td>\n",
       "      <td>0.3968</td>\n",
       "      <td>0.3275</td>\n",
       "      <td>0.3129</td>\n",
       "      <td>0.0311</td>\n",
       "      <td>0.0443</td>\n",
       "      <td>0.065</td>\n",
       "    </tr>\n",
       "    <tr>\n",
       "      <th>rf</th>\n",
       "      <td>Random Forest Classifier</td>\n",
       "      <td>0.5612</td>\n",
       "      <td>0.5702</td>\n",
       "      <td>0.5331</td>\n",
       "      <td>0.5418</td>\n",
       "      <td>0.5373</td>\n",
       "      <td>0.1202</td>\n",
       "      <td>0.1202</td>\n",
       "      <td>0.357</td>\n",
       "    </tr>\n",
       "    <tr>\n",
       "      <th>et</th>\n",
       "      <td>Extra Trees Classifier</td>\n",
       "      <td>0.5626</td>\n",
       "      <td>0.5620</td>\n",
       "      <td>0.5518</td>\n",
       "      <td>0.5419</td>\n",
       "      <td>0.5467</td>\n",
       "      <td>0.1243</td>\n",
       "      <td>0.1243</td>\n",
       "      <td>0.302</td>\n",
       "    </tr>\n",
       "    <tr>\n",
       "      <th>knn</th>\n",
       "      <td>K Neighbors Classifier</td>\n",
       "      <td>0.5365</td>\n",
       "      <td>0.5401</td>\n",
       "      <td>0.5010</td>\n",
       "      <td>0.5158</td>\n",
       "      <td>0.5080</td>\n",
       "      <td>0.0701</td>\n",
       "      <td>0.0702</td>\n",
       "      <td>0.061</td>\n",
       "    </tr>\n",
       "    <tr>\n",
       "      <th>dt</th>\n",
       "      <td>Decision Tree Classifier</td>\n",
       "      <td>0.5397</td>\n",
       "      <td>0.5224</td>\n",
       "      <td>0.5811</td>\n",
       "      <td>0.5164</td>\n",
       "      <td>0.5468</td>\n",
       "      <td>0.0824</td>\n",
       "      <td>0.0830</td>\n",
       "      <td>0.039</td>\n",
       "    </tr>\n",
       "    <tr>\n",
       "      <th>dummy</th>\n",
       "      <td>Dummy Classifier</td>\n",
       "      <td>0.5219</td>\n",
       "      <td>0.5000</td>\n",
       "      <td>0.0000</td>\n",
       "      <td>0.0000</td>\n",
       "      <td>0.0000</td>\n",
       "      <td>0.0000</td>\n",
       "      <td>0.0000</td>\n",
       "      <td>0.018</td>\n",
       "    </tr>\n",
       "  </tbody>\n",
       "</table>\n",
       "</div>"
      ],
      "text/plain": [
       "\n",
       "                          Model  Accuracy     AUC  Recall   Prec.      F1  \\\n",
       "lr          Logistic Regression    \u001b[1;36m0.5720\u001b[0m  \u001b[1;36m0.5920\u001b[0m  \u001b[1;36m0.4749\u001b[0m  \u001b[1;36m0.5624\u001b[0m  \u001b[1;36m0.5148\u001b[0m   \n",
       "nb                  Naive Bayes    \u001b[1;36m0.5714\u001b[0m  \u001b[1;36m0.5902\u001b[0m  \u001b[1;36m0.4960\u001b[0m  \u001b[1;36m0.5585\u001b[0m  \u001b[1;36m0.5253\u001b[0m   \n",
       "svm         SVM - Linear Kernel    \u001b[1;36m0.5207\u001b[0m  \u001b[1;36m0.5891\u001b[0m  \u001b[1;36m0.3968\u001b[0m  \u001b[1;36m0.3275\u001b[0m  \u001b[1;36m0.3129\u001b[0m   \n",
       "rf     Random Forest Classifier    \u001b[1;36m0.5612\u001b[0m  \u001b[1;36m0.5702\u001b[0m  \u001b[1;36m0.5331\u001b[0m  \u001b[1;36m0.5418\u001b[0m  \u001b[1;36m0.5373\u001b[0m   \n",
       "et       Extra Trees Classifier    \u001b[1;36m0.5626\u001b[0m  \u001b[1;36m0.5620\u001b[0m  \u001b[1;36m0.5518\u001b[0m  \u001b[1;36m0.5419\u001b[0m  \u001b[1;36m0.5467\u001b[0m   \n",
       "knn      K Neighbors Classifier    \u001b[1;36m0.5365\u001b[0m  \u001b[1;36m0.5401\u001b[0m  \u001b[1;36m0.5010\u001b[0m  \u001b[1;36m0.5158\u001b[0m  \u001b[1;36m0.5080\u001b[0m   \n",
       "dt     Decision Tree Classifier    \u001b[1;36m0.5397\u001b[0m  \u001b[1;36m0.5224\u001b[0m  \u001b[1;36m0.5811\u001b[0m  \u001b[1;36m0.5164\u001b[0m  \u001b[1;36m0.5468\u001b[0m   \n",
       "dummy          Dummy Classifier    \u001b[1;36m0.5219\u001b[0m  \u001b[1;36m0.5000\u001b[0m  \u001b[1;36m0.0000\u001b[0m  \u001b[1;36m0.0000\u001b[0m  \u001b[1;36m0.0000\u001b[0m   \n",
       "\n",
       "        Kappa     MCC  TT \u001b[1m(\u001b[0mSec\u001b[1m)\u001b[0m  \n",
       "lr     \u001b[1;36m0.1367\u001b[0m  \u001b[1;36m0.1384\u001b[0m     \u001b[1;36m0.954\u001b[0m  \n",
       "nb     \u001b[1;36m0.1371\u001b[0m  \u001b[1;36m0.1379\u001b[0m     \u001b[1;36m0.031\u001b[0m  \n",
       "svm    \u001b[1;36m0.0311\u001b[0m  \u001b[1;36m0.0443\u001b[0m     \u001b[1;36m0.065\u001b[0m  \n",
       "rf     \u001b[1;36m0.1202\u001b[0m  \u001b[1;36m0.1202\u001b[0m     \u001b[1;36m0.357\u001b[0m  \n",
       "et     \u001b[1;36m0.1243\u001b[0m  \u001b[1;36m0.1243\u001b[0m     \u001b[1;36m0.302\u001b[0m  \n",
       "knn    \u001b[1;36m0.0701\u001b[0m  \u001b[1;36m0.0702\u001b[0m     \u001b[1;36m0.061\u001b[0m  \n",
       "dt     \u001b[1;36m0.0824\u001b[0m  \u001b[1;36m0.0830\u001b[0m     \u001b[1;36m0.039\u001b[0m  \n",
       "dummy  \u001b[1;36m0.0000\u001b[0m  \u001b[1;36m0.0000\u001b[0m     \u001b[1;36m0.018\u001b[0m  "
      ]
     },
     "execution_count": 81,
     "metadata": {},
     "output_type": "execute_result"
    }
   ],
   "source": [
    "exp.pull()"
   ]
  },
  {
   "cell_type": "code",
   "execution_count": 82,
   "metadata": {},
   "outputs": [
    {
     "data": {
      "application/vnd.jupyter.widget-view+json": {
       "model_id": "1f968f9190c24d1bafdf40ac21502144",
       "version_major": 2,
       "version_minor": 0
      },
      "text/plain": [
       "interactive(children=(ToggleButtons(description='Plot Type:', icons=('',), options=(('Pipeline Plot', 'pipelin…"
      ]
     },
     "metadata": {},
     "output_type": "display_data"
    }
   ],
   "source": [
    "#best = _\n",
    "exp.evaluate_model(best)"
   ]
  },
  {
   "cell_type": "code",
   "execution_count": 85,
   "metadata": {},
   "outputs": [
    {
     "data": {
      "text/html": [
       "<pre style=\"white-space:pre;overflow-x:auto;line-height:normal;font-family:Menlo,'DejaVu Sans Mono',consolas,'Courier New',monospace\"></pre>\n"
      ],
      "text/plain": []
     },
     "metadata": {},
     "output_type": "display_data"
    },
    {
     "data": {
      "text/html": [],
      "text/plain": [
       "\u001b[1m<\u001b[0m\u001b[1;95mIPython.core.display.HTML\u001b[0m\u001b[39m object\u001b[0m\u001b[1m>\u001b[0m"
      ]
     },
     "metadata": {},
     "output_type": "display_data"
    },
    {
     "data": {
      "text/html": [
       "<pre style=\"white-space:pre;overflow-x:auto;line-height:normal;font-family:Menlo,'DejaVu Sans Mono',consolas,'Courier New',monospace\"></pre>\n"
      ],
      "text/plain": []
     },
     "metadata": {},
     "output_type": "display_data"
    },
    {
     "data": {
      "text/html": [
       "<style type=\"text/css\">\n",
       "#T_9b550_row10_col0, #T_9b550_row10_col1, #T_9b550_row10_col2, #T_9b550_row10_col3, #T_9b550_row10_col4, #T_9b550_row10_col5, #T_9b550_row10_col6 {\n",
       "  background: yellow;\n",
       "}\n",
       "</style>\n",
       "<table id=\"T_9b550\">\n",
       "  <thead>\n",
       "    <tr>\n",
       "      <th class=\"blank level0\" >&nbsp;</th>\n",
       "      <th id=\"T_9b550_level0_col0\" class=\"col_heading level0 col0\" >Accuracy</th>\n",
       "      <th id=\"T_9b550_level0_col1\" class=\"col_heading level0 col1\" >AUC</th>\n",
       "      <th id=\"T_9b550_level0_col2\" class=\"col_heading level0 col2\" >Recall</th>\n",
       "      <th id=\"T_9b550_level0_col3\" class=\"col_heading level0 col3\" >Prec.</th>\n",
       "      <th id=\"T_9b550_level0_col4\" class=\"col_heading level0 col4\" >F1</th>\n",
       "      <th id=\"T_9b550_level0_col5\" class=\"col_heading level0 col5\" >Kappa</th>\n",
       "      <th id=\"T_9b550_level0_col6\" class=\"col_heading level0 col6\" >MCC</th>\n",
       "    </tr>\n",
       "    <tr>\n",
       "      <th class=\"index_name level0\" >Fold</th>\n",
       "      <th class=\"blank col0\" >&nbsp;</th>\n",
       "      <th class=\"blank col1\" >&nbsp;</th>\n",
       "      <th class=\"blank col2\" >&nbsp;</th>\n",
       "      <th class=\"blank col3\" >&nbsp;</th>\n",
       "      <th class=\"blank col4\" >&nbsp;</th>\n",
       "      <th class=\"blank col5\" >&nbsp;</th>\n",
       "      <th class=\"blank col6\" >&nbsp;</th>\n",
       "    </tr>\n",
       "  </thead>\n",
       "  <tbody>\n",
       "    <tr>\n",
       "      <th id=\"T_9b550_level0_row0\" class=\"row_heading level0 row0\" >0</th>\n",
       "      <td id=\"T_9b550_row0_col0\" class=\"data row0 col0\" >0.5669</td>\n",
       "      <td id=\"T_9b550_row0_col1\" class=\"data row0 col1\" >0.5787</td>\n",
       "      <td id=\"T_9b550_row0_col2\" class=\"data row0 col2\" >0.4715</td>\n",
       "      <td id=\"T_9b550_row0_col3\" class=\"data row0 col3\" >0.5553</td>\n",
       "      <td id=\"T_9b550_row0_col4\" class=\"data row0 col4\" >0.5100</td>\n",
       "      <td id=\"T_9b550_row0_col5\" class=\"data row0 col5\" >0.1266</td>\n",
       "      <td id=\"T_9b550_row0_col6\" class=\"data row0 col6\" >0.1279</td>\n",
       "    </tr>\n",
       "    <tr>\n",
       "      <th id=\"T_9b550_level0_row1\" class=\"row_heading level0 row1\" >1</th>\n",
       "      <td id=\"T_9b550_row1_col0\" class=\"data row1 col0\" >0.5739</td>\n",
       "      <td id=\"T_9b550_row1_col1\" class=\"data row1 col1\" >0.5775</td>\n",
       "      <td id=\"T_9b550_row1_col2\" class=\"data row1 col2\" >0.5009</td>\n",
       "      <td id=\"T_9b550_row1_col3\" class=\"data row1 col3\" >0.5608</td>\n",
       "      <td id=\"T_9b550_row1_col4\" class=\"data row1 col4\" >0.5292</td>\n",
       "      <td id=\"T_9b550_row1_col5\" class=\"data row1 col5\" >0.1424</td>\n",
       "      <td id=\"T_9b550_row1_col6\" class=\"data row1 col6\" >0.1431</td>\n",
       "    </tr>\n",
       "    <tr>\n",
       "      <th id=\"T_9b550_level0_row2\" class=\"row_heading level0 row2\" >2</th>\n",
       "      <td id=\"T_9b550_row2_col0\" class=\"data row2 col0\" >0.5528</td>\n",
       "      <td id=\"T_9b550_row2_col1\" class=\"data row2 col1\" >0.5830</td>\n",
       "      <td id=\"T_9b550_row2_col2\" class=\"data row2 col2\" >0.4751</td>\n",
       "      <td id=\"T_9b550_row2_col3\" class=\"data row2 col3\" >0.5364</td>\n",
       "      <td id=\"T_9b550_row2_col4\" class=\"data row2 col4\" >0.5039</td>\n",
       "      <td id=\"T_9b550_row2_col5\" class=\"data row2 col5\" >0.0996</td>\n",
       "      <td id=\"T_9b550_row2_col6\" class=\"data row2 col6\" >0.1002</td>\n",
       "    </tr>\n",
       "    <tr>\n",
       "      <th id=\"T_9b550_level0_row3\" class=\"row_heading level0 row3\" >3</th>\n",
       "      <td id=\"T_9b550_row3_col0\" class=\"data row3 col0\" >0.5960</td>\n",
       "      <td id=\"T_9b550_row3_col1\" class=\"data row3 col1\" >0.6117</td>\n",
       "      <td id=\"T_9b550_row3_col2\" class=\"data row3 col2\" >0.4936</td>\n",
       "      <td id=\"T_9b550_row3_col3\" class=\"data row3 col3\" >0.5929</td>\n",
       "      <td id=\"T_9b550_row3_col4\" class=\"data row3 col4\" >0.5387</td>\n",
       "      <td id=\"T_9b550_row3_col5\" class=\"data row3 col5\" >0.1846</td>\n",
       "      <td id=\"T_9b550_row3_col6\" class=\"data row3 col6\" >0.1870</td>\n",
       "    </tr>\n",
       "    <tr>\n",
       "      <th id=\"T_9b550_level0_row4\" class=\"row_heading level0 row4\" >4</th>\n",
       "      <td id=\"T_9b550_row4_col0\" class=\"data row4 col0\" >0.6012</td>\n",
       "      <td id=\"T_9b550_row4_col1\" class=\"data row4 col1\" >0.6287</td>\n",
       "      <td id=\"T_9b550_row4_col2\" class=\"data row4 col2\" >0.4880</td>\n",
       "      <td id=\"T_9b550_row4_col3\" class=\"data row4 col3\" >0.6023</td>\n",
       "      <td id=\"T_9b550_row4_col4\" class=\"data row4 col4\" >0.5392</td>\n",
       "      <td id=\"T_9b550_row4_col5\" class=\"data row4 col5\" >0.1945</td>\n",
       "      <td id=\"T_9b550_row4_col6\" class=\"data row4 col6\" >0.1978</td>\n",
       "    </tr>\n",
       "    <tr>\n",
       "      <th id=\"T_9b550_level0_row5\" class=\"row_heading level0 row5\" >5</th>\n",
       "      <td id=\"T_9b550_row5_col0\" class=\"data row5 col0\" >0.5572</td>\n",
       "      <td id=\"T_9b550_row5_col1\" class=\"data row5 col1\" >0.5987</td>\n",
       "      <td id=\"T_9b550_row5_col2\" class=\"data row5 col2\" >0.4549</td>\n",
       "      <td id=\"T_9b550_row5_col3\" class=\"data row5 col3\" >0.5441</td>\n",
       "      <td id=\"T_9b550_row5_col4\" class=\"data row5 col4\" >0.4955</td>\n",
       "      <td id=\"T_9b550_row5_col5\" class=\"data row5 col5\" >0.1065</td>\n",
       "      <td id=\"T_9b550_row5_col6\" class=\"data row5 col6\" >0.1079</td>\n",
       "    </tr>\n",
       "    <tr>\n",
       "      <th id=\"T_9b550_level0_row6\" class=\"row_heading level0 row6\" >6</th>\n",
       "      <td id=\"T_9b550_row6_col0\" class=\"data row6 col0\" >0.5660</td>\n",
       "      <td id=\"T_9b550_row6_col1\" class=\"data row6 col1\" >0.5819</td>\n",
       "      <td id=\"T_9b550_row6_col2\" class=\"data row6 col2\" >0.4696</td>\n",
       "      <td id=\"T_9b550_row6_col3\" class=\"data row6 col3\" >0.5543</td>\n",
       "      <td id=\"T_9b550_row6_col4\" class=\"data row6 col4\" >0.5085</td>\n",
       "      <td id=\"T_9b550_row6_col5\" class=\"data row6 col5\" >0.1247</td>\n",
       "      <td id=\"T_9b550_row6_col6\" class=\"data row6 col6\" >0.1261</td>\n",
       "    </tr>\n",
       "    <tr>\n",
       "      <th id=\"T_9b550_level0_row7\" class=\"row_heading level0 row7\" >7</th>\n",
       "      <td id=\"T_9b550_row7_col0\" class=\"data row7 col0\" >0.5563</td>\n",
       "      <td id=\"T_9b550_row7_col1\" class=\"data row7 col1\" >0.5808</td>\n",
       "      <td id=\"T_9b550_row7_col2\" class=\"data row7 col2\" >0.4530</td>\n",
       "      <td id=\"T_9b550_row7_col3\" class=\"data row7 col3\" >0.5430</td>\n",
       "      <td id=\"T_9b550_row7_col4\" class=\"data row7 col4\" >0.4940</td>\n",
       "      <td id=\"T_9b550_row7_col5\" class=\"data row7 col5\" >0.1047</td>\n",
       "      <td id=\"T_9b550_row7_col6\" class=\"data row7 col6\" >0.1061</td>\n",
       "    </tr>\n",
       "    <tr>\n",
       "      <th id=\"T_9b550_level0_row8\" class=\"row_heading level0 row8\" >8</th>\n",
       "      <td id=\"T_9b550_row8_col0\" class=\"data row8 col0\" >0.5783</td>\n",
       "      <td id=\"T_9b550_row8_col1\" class=\"data row8 col1\" >0.5909</td>\n",
       "      <td id=\"T_9b550_row8_col2\" class=\"data row8 col2\" >0.4577</td>\n",
       "      <td id=\"T_9b550_row8_col3\" class=\"data row8 col3\" >0.5751</td>\n",
       "      <td id=\"T_9b550_row8_col4\" class=\"data row8 col4\" >0.5097</td>\n",
       "      <td id=\"T_9b550_row8_col5\" class=\"data row8 col5\" >0.1481</td>\n",
       "      <td id=\"T_9b550_row8_col6\" class=\"data row8 col6\" >0.1511</td>\n",
       "    </tr>\n",
       "    <tr>\n",
       "      <th id=\"T_9b550_level0_row9\" class=\"row_heading level0 row9\" >9</th>\n",
       "      <td id=\"T_9b550_row9_col0\" class=\"data row9 col0\" >0.5718</td>\n",
       "      <td id=\"T_9b550_row9_col1\" class=\"data row9 col1\" >0.5892</td>\n",
       "      <td id=\"T_9b550_row9_col2\" class=\"data row9 col2\" >0.4862</td>\n",
       "      <td id=\"T_9b550_row9_col3\" class=\"data row9 col3\" >0.5605</td>\n",
       "      <td id=\"T_9b550_row9_col4\" class=\"data row9 col4\" >0.5207</td>\n",
       "      <td id=\"T_9b550_row9_col5\" class=\"data row9 col5\" >0.1373</td>\n",
       "      <td id=\"T_9b550_row9_col6\" class=\"data row9 col6\" >0.1384</td>\n",
       "    </tr>\n",
       "    <tr>\n",
       "      <th id=\"T_9b550_level0_row10\" class=\"row_heading level0 row10\" >Mean</th>\n",
       "      <td id=\"T_9b550_row10_col0\" class=\"data row10 col0\" >0.5721</td>\n",
       "      <td id=\"T_9b550_row10_col1\" class=\"data row10 col1\" >0.5921</td>\n",
       "      <td id=\"T_9b550_row10_col2\" class=\"data row10 col2\" >0.4751</td>\n",
       "      <td id=\"T_9b550_row10_col3\" class=\"data row10 col3\" >0.5625</td>\n",
       "      <td id=\"T_9b550_row10_col4\" class=\"data row10 col4\" >0.5149</td>\n",
       "      <td id=\"T_9b550_row10_col5\" class=\"data row10 col5\" >0.1369</td>\n",
       "      <td id=\"T_9b550_row10_col6\" class=\"data row10 col6\" >0.1386</td>\n",
       "    </tr>\n",
       "    <tr>\n",
       "      <th id=\"T_9b550_level0_row11\" class=\"row_heading level0 row11\" >Std</th>\n",
       "      <td id=\"T_9b550_row11_col0\" class=\"data row11 col0\" >0.0154</td>\n",
       "      <td id=\"T_9b550_row11_col1\" class=\"data row11 col1\" >0.0158</td>\n",
       "      <td id=\"T_9b550_row11_col2\" class=\"data row11 col2\" >0.0159</td>\n",
       "      <td id=\"T_9b550_row11_col3\" class=\"data row11 col3\" >0.0205</td>\n",
       "      <td id=\"T_9b550_row11_col4\" class=\"data row11 col4\" >0.0156</td>\n",
       "      <td id=\"T_9b550_row11_col5\" class=\"data row11 col5\" >0.0306</td>\n",
       "      <td id=\"T_9b550_row11_col6\" class=\"data row11 col6\" >0.0313</td>\n",
       "    </tr>\n",
       "  </tbody>\n",
       "</table>\n"
      ],
      "text/plain": [
       "\u001b[1m<\u001b[0m\u001b[1;95mpandas.io.formats.style.Styler\u001b[0m\u001b[39m object at \u001b[0m\u001b[1;36m0x0000020BD4737710\u001b[0m\u001b[1m>\u001b[0m"
      ]
     },
     "metadata": {},
     "output_type": "display_data"
    },
    {
     "data": {
      "text/html": [],
      "text/plain": [
       "\u001b[1m<\u001b[0m\u001b[1;95mIPython.core.display.HTML\u001b[0m\u001b[39m object\u001b[0m\u001b[1m>\u001b[0m"
      ]
     },
     "metadata": {},
     "output_type": "display_data"
    },
    {
     "data": {
      "text/html": [
       "<pre style=\"white-space:pre;overflow-x:auto;line-height:normal;font-family:Menlo,'DejaVu Sans Mono',consolas,'Courier New',monospace\"></pre>\n"
      ],
      "text/plain": []
     },
     "metadata": {},
     "output_type": "display_data"
    },
    {
     "data": {
      "text/html": [
       "<pre style=\"white-space:pre;overflow-x:auto;line-height:normal;font-family:Menlo,'DejaVu Sans Mono',consolas,'Courier New',monospace\"></pre>\n"
      ],
      "text/plain": []
     },
     "metadata": {},
     "output_type": "display_data"
    },
    {
     "name": "stdout",
     "output_type": "stream",
     "text": [
      "Fitting 10 folds for each of 10 candidates, totalling 100 fits\n"
     ]
    },
    {
     "data": {
      "text/html": [
       "<pre style=\"white-space:pre;overflow-x:auto;line-height:normal;font-family:Menlo,'DejaVu Sans Mono',consolas,'Courier New',monospace\"></pre>\n"
      ],
      "text/plain": []
     },
     "metadata": {},
     "output_type": "display_data"
    },
    {
     "data": {
      "text/html": [
       "<pre style=\"white-space:pre;overflow-x:auto;line-height:normal;font-family:Menlo,'DejaVu Sans Mono',consolas,'Courier New',monospace\"></pre>\n"
      ],
      "text/plain": []
     },
     "metadata": {},
     "output_type": "display_data"
    },
    {
     "data": {
      "text/html": [
       "<pre style=\"white-space:pre;overflow-x:auto;line-height:normal;font-family:Menlo,'DejaVu Sans Mono',consolas,'Courier New',monospace\"></pre>\n"
      ],
      "text/plain": []
     },
     "metadata": {},
     "output_type": "display_data"
    },
    {
     "data": {
      "text/html": [
       "<pre style=\"white-space:pre;overflow-x:auto;line-height:normal;font-family:Menlo,'DejaVu Sans Mono',consolas,'Courier New',monospace\"></pre>\n"
      ],
      "text/plain": []
     },
     "metadata": {},
     "output_type": "display_data"
    },
    {
     "data": {
      "text/html": [
       "<pre style=\"white-space:pre;overflow-x:auto;line-height:normal;font-family:Menlo,'DejaVu Sans Mono',consolas,'Courier New',monospace\"></pre>\n"
      ],
      "text/plain": []
     },
     "metadata": {},
     "output_type": "display_data"
    },
    {
     "data": {
      "text/html": [
       "<pre style=\"white-space:pre;overflow-x:auto;line-height:normal;font-family:Menlo,'DejaVu Sans Mono',consolas,'Courier New',monospace\"></pre>\n"
      ],
      "text/plain": []
     },
     "metadata": {},
     "output_type": "display_data"
    },
    {
     "data": {
      "text/html": [
       "<pre style=\"white-space:pre;overflow-x:auto;line-height:normal;font-family:Menlo,'DejaVu Sans Mono',consolas,'Courier New',monospace\"></pre>\n"
      ],
      "text/plain": []
     },
     "metadata": {},
     "output_type": "display_data"
    },
    {
     "data": {
      "text/html": [
       "<pre style=\"white-space:pre;overflow-x:auto;line-height:normal;font-family:Menlo,'DejaVu Sans Mono',consolas,'Courier New',monospace\"></pre>\n"
      ],
      "text/plain": []
     },
     "metadata": {},
     "output_type": "display_data"
    },
    {
     "data": {
      "text/html": [
       "<pre style=\"white-space:pre;overflow-x:auto;line-height:normal;font-family:Menlo,'DejaVu Sans Mono',consolas,'Courier New',monospace\"></pre>\n"
      ],
      "text/plain": []
     },
     "metadata": {},
     "output_type": "display_data"
    },
    {
     "data": {
      "text/html": [
       "<pre style=\"white-space:pre;overflow-x:auto;line-height:normal;font-family:Menlo,'DejaVu Sans Mono',consolas,'Courier New',monospace\"></pre>\n"
      ],
      "text/plain": []
     },
     "metadata": {},
     "output_type": "display_data"
    },
    {
     "data": {
      "text/html": [
       "<pre style=\"white-space:pre;overflow-x:auto;line-height:normal;font-family:Menlo,'DejaVu Sans Mono',consolas,'Courier New',monospace\"></pre>\n"
      ],
      "text/plain": []
     },
     "metadata": {},
     "output_type": "display_data"
    }
   ],
   "source": [
    "#tuned_model = exp.tune_model(best, n_iter=1000, optimize='F1')\n",
    "tuned_model = exp.tune_model(best, n_iter=10, optimize='AUC')\n",
    "\n",
    "#0.5276\t0.5361\t0.7244\t0.5038\t0.5941\t0.0709\t0.0776"
   ]
  },
  {
   "cell_type": "code",
   "execution_count": 86,
   "metadata": {},
   "outputs": [
    {
     "data": {
      "text/html": [
       "<pre style=\"white-space:pre;overflow-x:auto;line-height:normal;font-family:Menlo,'DejaVu Sans Mono',consolas,'Courier New',monospace\"></pre>\n"
      ],
      "text/plain": []
     },
     "metadata": {},
     "output_type": "display_data"
    },
    {
     "data": {
      "text/html": [],
      "text/plain": [
       "\u001b[1m<\u001b[0m\u001b[1;95mIPython.core.display.HTML\u001b[0m\u001b[39m object\u001b[0m\u001b[1m>\u001b[0m"
      ]
     },
     "metadata": {},
     "output_type": "display_data"
    },
    {
     "data": {
      "text/html": [
       "<pre style=\"white-space:pre;overflow-x:auto;line-height:normal;font-family:Menlo,'DejaVu Sans Mono',consolas,'Courier New',monospace\"></pre>\n"
      ],
      "text/plain": []
     },
     "metadata": {},
     "output_type": "display_data"
    },
    {
     "data": {
      "image/png": "[encoded data removed]",
      "text/plain": [
       "\u001b[1m<\u001b[0m\u001b[1;95mFigure\u001b[0m\u001b[39m size 80\u001b[0m\u001b[1;36m0x550\u001b[0m\u001b[39m with \u001b[0m\u001b[1;36m1\u001b[0m\u001b[39m Axes\u001b[0m\u001b[1m>\u001b[0m"
      ]
     },
     "metadata": {},
     "output_type": "display_data"
    }
   ],
   "source": [
    "# Mostrar o gráfico\n",
    "exp.plot_model(tuned_model, plot='auc')\n"
   ]
  }
 ],
 "metadata": {
  "kernelspec": {
   "display_name": "Kedro (kobe)",
   "language": "python",
   "name": "kedro_kobe"
  },
  "language_info": {
   "codemirror_mode": {
    "name": "ipython",
    "version": 3
   },
   "file_extension": ".py",
   "mimetype": "text/x-python",
   "name": "python",
   "nbconvert_exporter": "python",
   "pygments_lexer": "ipython3",
   "version": "3.11.3"
  }
 },
 "nbformat": 4,
 "nbformat_minor": 2
}
