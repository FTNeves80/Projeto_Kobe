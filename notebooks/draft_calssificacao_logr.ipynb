{
 "cells": [
  {
   "cell_type": "code",
   "execution_count": null,
   "metadata": {},
   "outputs": [],
   "source": [
    "#abrindo a sessao manualmente para funcinar no vcscod\n",
    "from kedro.framework.session import KedroSession\n",
    "session = KedroSession.create(project_path=\"../\")\n",
    "context = session.load_context()\n",
    "catalog = context.catalog"
   ]
  },
  {
   "cell_type": "code",
   "execution_count": null,
   "metadata": {},
   "outputs": [],
   "source": [
    "data_filtered = catalog.load(\"train_set\")\n",
    "session_id = catalog.load('params:session_id')"
   ]
  },
  {
   "cell_type": "code",
   "execution_count": null,
   "metadata": {},
   "outputs": [],
   "source": [
    "from pycaret.classification import *"
   ]
  },
  {
   "cell_type": "code",
   "execution_count": null,
   "metadata": {},
   "outputs": [],
   "source": [
    "exp = ClassificationExperiment()\n",
    "#exp.setup(data=train, target='Survived', session_id=session_id, log_experiment='mlflow', experiment_name='titanic_pycaret')\n",
    "exp.setup(data=data_filtered, target='shot_made_flag', session_id=session_id)"
   ]
  },
  {
   "cell_type": "code",
   "execution_count": null,
   "metadata": {},
   "outputs": [],
   "source": [
    "exp.get_metrics()"
   ]
  },
  {
   "cell_type": "code",
   "execution_count": null,
   "metadata": {},
   "outputs": [],
   "source": [
    "#criando uma seleçao de models\n",
    "logr = exp.create_model('lr')"
   ]
  },
  {
   "cell_type": "code",
   "execution_count": null,
   "metadata": {},
   "outputs": [],
   "source": [
    "import numpy as np\n",
    "from sklearn.metrics import log_loss\n",
    "import mlflow\n",
    "\n",
    "# Example actual and predicted probabilities\n",
    "y_true = [0, 1, 1, 0]\n",
    "y_pred = [0.1, 0.9, 0.8, 0.2]\n",
    "\n",
    "# Calculate log loss\n",
    "log_loss_value = log_loss(y_true, y_pred)\n",
    "\n",
    "print(log_loss_value)\n",
    "\n",
    "# Log the log loss in MLflow\n",
    "#mlflow.log_metric(\"log_loss\", log_loss_value)"
   ]
  },
  {
   "cell_type": "code",
   "execution_count": null,
   "metadata": {},
   "outputs": [],
   "source": [
    "exp.pull()"
   ]
  },
  {
   "cell_type": "code",
   "execution_count": null,
   "metadata": {},
   "outputs": [],
   "source": [
    "import pandas \n",
    "from datetime import date\n",
    "\n",
    "results_df = exp.pull()\n",
    "\n",
    "model_name = \"random_forest\"  # personalize com o modelo real\n",
    "today = date.today().isoformat()\n",
    "\n",
    "#filename = f\"cv_metrics_{model_name}_{today}.xlsx\"\n",
    "\n",
    "#filename = f\"./cv_metrics_{model_name}_{today}.xlsx\"\n",
    "filename = f\"../data/08_reporting/cv_metrics_{model_name}_{today}.xlsx\"\n",
    "\n",
    "results_df = exp.pull()\n",
    "results_df.to_excel(filename)\n",
    "\n",
    "\n",
    "\n",
    "\n",
    "# Salvar como arquivo Excel\n",
    "#results_df.to_excel(\"resultados_experimento.xlsx\", sheet_name=\"\")\n",
    "# Puxa o DataFrame com os resultados\n",
    "#results_df = exp.pull()\n",
    "# Salva em um arquivo CSV\n",
    "#results_df.to_csv(\"resultados_experimento.csv\")\n"
   ]
  },
  {
   "cell_type": "code",
   "execution_count": null,
   "metadata": {},
   "outputs": [],
   "source": []
  },
  {
   "cell_type": "code",
   "execution_count": null,
   "metadata": {},
   "outputs": [],
   "source": [
    "\n",
    "exp.evaluate_model(logr)"
   ]
  },
  {
   "cell_type": "code",
   "execution_count": null,
   "metadata": {},
   "outputs": [],
   "source": [
    "tuned_model = exp.tune_model(logr, n_iter=100, optimize='AUC')"
   ]
  },
  {
   "cell_type": "code",
   "execution_count": null,
   "metadata": {},
   "outputs": [],
   "source": [
    "# Mostrar o gráfico\n",
    "exp.plot_model(tuned_model, plot='auc')\n"
   ]
  }
 ],
 "metadata": {
  "kernelspec": {
   "display_name": "Kedro (kobe)",
   "language": "python",
   "name": "kedro_kobe"
  },
  "language_info": {
   "codemirror_mode": {
    "name": "ipython",
    "version": 3
   },
   "file_extension": ".py",
   "mimetype": "text/x-python",
   "name": "python",
   "nbconvert_exporter": "python",
   "pygments_lexer": "ipython3",
   "version": "3.11.3"
  }
 },
 "nbformat": 4,
 "nbformat_minor": 2
}
