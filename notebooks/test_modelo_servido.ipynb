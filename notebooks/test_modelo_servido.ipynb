{
 "cells": [
  {
   "cell_type": "code",
   "execution_count": null,
   "id": "9db335a0",
   "metadata": {},
   "outputs": [],
   "source": [
    "import requests\n",
    "import json\n",
    "\n",
    "\n",
    "#mlflow models serve -m runs:/4fc7f9e665f84f838e62031857300561/model -p 5001 --no-conda\n",
    "#mlflow ui"
   ]
  },
  {
   "cell_type": "markdown",
   "id": "d270988a",
   "metadata": {},
   "source": [
    "lat\t        lon\t                minutes_remaining\tperiod  \tplayoffs\tshot_distance\tshot_made_flag\n",
    "33.9723\t    -118.1028\t        10\t                  1\t        0\t        18\t            NaN\n",
    "34.0443\t    -118.4268\t        10\t                  1\t        0\t        15\t            0.0\n",
    "33.9093\t    -118.3708\t        7\t                  1\t        0\t        16\t            1.0\n",
    "33.8693\t    -118.1318\t        6\t                  1\t        0\t        22\t            0.0\n",
    "34.0443\t    -118.2698\t        6\t                  2\t        0\t        0\t            1.0"
   ]
  },
  {
   "cell_type": "code",
   "execution_count": 13,
   "id": "1900dad4",
   "metadata": {},
   "outputs": [],
   "source": [
    "payload = {\n",
    "    \"dataframe_split\": {\n",
    "        \"columns\": [\"lat\", \"lon\", \"minutes_remaining\", \"period\", \"playoffs\", \"shot_distance\"],\n",
    "        \"data\": [[34.0443, -118.2698, 6, 2, 0, 0]]\n",
    "    }\n",
    "}"
   ]
  },
  {
   "cell_type": "code",
   "execution_count": 14,
   "id": "65e233fc",
   "metadata": {},
   "outputs": [],
   "source": [
    "response = requests.post(\n",
    "    \"http://127.0.0.1:5001/invocations\",\n",
    "    headers={\"Content-Type\": \"application/json\"},\n",
    "    json=payload\n",
    ")\n"
   ]
  },
  {
   "cell_type": "code",
   "execution_count": 15,
   "id": "9503d029",
   "metadata": {},
   "outputs": [
    {
     "name": "stdout",
     "output_type": "stream",
     "text": [
      "{'predictions': [1.0]}\n"
     ]
    }
   ],
   "source": [
    "print(response.json())"
   ]
  }
 ],
 "metadata": {
  "kernelspec": {
   "display_name": "Kedro (kobe)",
   "language": "python",
   "name": "kedro_kobe"
  },
  "language_info": {
   "codemirror_mode": {
    "name": "ipython",
    "version": 3
   },
   "file_extension": ".py",
   "mimetype": "text/x-python",
   "name": "python",
   "nbconvert_exporter": "python",
   "pygments_lexer": "ipython3",
   "version": "3.11.3"
  }
 },
 "nbformat": 4,
 "nbformat_minor": 5
}
