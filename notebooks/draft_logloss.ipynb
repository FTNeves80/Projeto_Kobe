{
 "cells": [
  {
   "cell_type": "code",
   "execution_count": 2,
   "id": "1712d23f",
   "metadata": {},
   "outputs": [
    {
     "name": "stdout",
     "output_type": "stream",
     "text": [
      "0.164252033486018\n"
     ]
    }
   ],
   "source": [
    "import numpy as np\n",
    "from sklearn.metrics import log_loss\n",
    "import mlflow\n",
    "\n",
    "# Example actual and predicted probabilities\n",
    "y_true = [0, 1, 1, 0]\n",
    "y_pred = [0.1, 0.9, 0.8, 0.2]\n",
    "\n",
    "# Calculate log loss\n",
    "log_loss_value = log_loss(y_true, y_pred)\n",
    "\n",
    "print(log_loss_value)\n",
    "\n",
    "# Log the log loss in MLflow\n",
    "#mlflow.log_metric(\"log_loss\", log_loss_value)"
   ]
  },
  {
   "cell_type": "code",
   "execution_count": 3,
   "id": "9902e7a6",
   "metadata": {},
   "outputs": [
    {
     "data": {
      "text/html": [
       "<pre style=\"white-space:pre;overflow-x:auto;line-height:normal;font-family:Menlo,'DejaVu Sans Mono',consolas,'Courier New',monospace\"><span style=\"color: #7fbfbf; text-decoration-color: #7fbfbf\">[04/06/25 18:59:47] </span><span style=\"color: #000080; text-decoration-color: #000080\">INFO    </span> Loading data from <span style=\"color: #ff8700; text-decoration-color: #ff8700\">raw_prod</span> <span style=\"font-weight: bold\">(</span>ParquetDataset<span style=\"font-weight: bold\">)</span><span style=\"color: #808000; text-decoration-color: #808000\">...</span>                     <a href=\"file://c:\\Users\\Dell\\AppData\\Local\\Programs\\Python\\Python311\\Lib\\site-packages\\kedro\\io\\data_catalog.py\" target=\"_blank\"><span style=\"color: #7f7f7f; text-decoration-color: #7f7f7f\">data_catalog.py</span></a><span style=\"color: #7f7f7f; text-decoration-color: #7f7f7f\">:</span><a href=\"file://c:\\Users\\Dell\\AppData\\Local\\Programs\\Python\\Python311\\Lib\\site-packages\\kedro\\io\\data_catalog.py#401\" target=\"_blank\"><span style=\"color: #7f7f7f; text-decoration-color: #7f7f7f\">401</span></a>\n",
       "</pre>\n"
      ],
      "text/plain": [
       "\u001b[2;36m[04/06/25 18:59:47]\u001b[0m\u001b[2;36m \u001b[0m\u001b[34mINFO    \u001b[0m Loading data from \u001b[38;5;208mraw_prod\u001b[0m \u001b[1m(\u001b[0mParquetDataset\u001b[1m)\u001b[0m\u001b[33m...\u001b[0m                     \u001b]8;id=783371;file://c:\\Users\\Dell\\AppData\\Local\\Programs\\Python\\Python311\\Lib\\site-packages\\kedro\\io\\data_catalog.py\u001b\\\u001b[2mdata_catalog.py\u001b[0m\u001b]8;;\u001b\\\u001b[2m:\u001b[0m\u001b]8;id=292663;file://c:\\Users\\Dell\\AppData\\Local\\Programs\\Python\\Python311\\Lib\\site-packages\\kedro\\io\\data_catalog.py#401\u001b\\\u001b[2m401\u001b[0m\u001b]8;;\u001b\\\n"
      ]
     },
     "metadata": {},
     "output_type": "display_data"
    }
   ],
   "source": [
    "raw_data = catalog.load(\"raw_prod\")\n",
    "raw_data = raw_data.dropna()\n",
    "prod = raw_data[['lat','lon','minutes_remaining','period','playoffs','shot_distance']]"
   ]
  },
  {
   "cell_type": "code",
   "execution_count": 9,
   "id": "f9780c56",
   "metadata": {},
   "outputs": [
    {
     "name": "stdout",
     "output_type": "stream",
     "text": [
      "pred_probs: [0.43478261 0.43478261 1.         ... 0.45155185 0.45155185 0.45155185]\n",
      "Log Loss: 4.637758276295988\n"
     ]
    }
   ],
   "source": [
    "import mlflow.pyfunc\n",
    "import mlflow.sklearn\n",
    "\n",
    "# Load the model\n",
    "model_uri = \"runs://uns:/4fc7f9e665f84f838e62031857300561/model\"  \n",
    "loaded_model = mlflow.sklearn.load_model(model_uri)\n",
    "\n",
    "# Obtenha as probabilidades da classe 1\n",
    "pred_probs = loaded_model.predict_proba(prod)[:, 1]  # ← pega só a probabilidade da classe 1\n",
    "\n",
    "# Agora sim, calcula o log loss corretamente\n",
    "from sklearn.metrics import log_loss\n",
    "y_true = raw_data['shot_made_flag']\n",
    "logloss = log_loss(y_true, pred_probs)\n",
    "print(f'pred_probs: {pred_probs}')\n",
    "print(f'Log Loss: {logloss}')"
   ]
  }
 ],
 "metadata": {
  "kernelspec": {
   "display_name": "Kedro (kobe)",
   "language": "python",
   "name": "kedro_kobe"
  },
  "language_info": {
   "codemirror_mode": {
    "name": "ipython",
    "version": 3
   },
   "file_extension": ".py",
   "mimetype": "text/x-python",
   "name": "python",
   "nbconvert_exporter": "python",
   "pygments_lexer": "ipython3",
   "version": "3.11.3"
  }
 },
 "nbformat": 4,
 "nbformat_minor": 5
}
