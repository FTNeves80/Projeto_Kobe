{
 "cells": [
  {
   "cell_type": "code",
   "execution_count": 1,
   "metadata": {},
   "outputs": [
    {
     "data": {
      "text/html": [
       "<pre style=\"white-space:pre;overflow-x:auto;line-height:normal;font-family:Menlo,'DejaVu Sans Mono',consolas,'Courier New',monospace\"><span style=\"color: #7fbfbf; text-decoration-color: #7fbfbf\">                    </span><span style=\"color: #000080; text-decoration-color: #000080\">INFO    </span> Registering new custom resolver: <span style=\"color: #008000; text-decoration-color: #008000\">'km.random_name'</span>                    <a href=\"file://c:\\Users\\Dell\\AppData\\Local\\Programs\\Python\\Python311\\Lib\\site-packages\\kedro_mlflow\\framework\\hooks\\mlflow_hook.py\" target=\"_blank\"><span style=\"color: #7f7f7f; text-decoration-color: #7f7f7f\">mlflow_hook.py</span></a><span style=\"color: #7f7f7f; text-decoration-color: #7f7f7f\">:</span><a href=\"file://c:\\Users\\Dell\\AppData\\Local\\Programs\\Python\\Python311\\Lib\\site-packages\\kedro_mlflow\\framework\\hooks\\mlflow_hook.py#65\" target=\"_blank\"><span style=\"color: #7f7f7f; text-decoration-color: #7f7f7f\">65</span></a>\n",
       "</pre>\n"
      ],
      "text/plain": [
       "\u001b[2;36m                   \u001b[0m\u001b[2;36m \u001b[0m\u001b[34mINFO    \u001b[0m Registering new custom resolver: \u001b[32m'km.random_name'\u001b[0m                    \u001b]8;id=542813;file://c:\\Users\\Dell\\AppData\\Local\\Programs\\Python\\Python311\\Lib\\site-packages\\kedro_mlflow\\framework\\hooks\\mlflow_hook.py\u001b\\\u001b[2mmlflow_hook.py\u001b[0m\u001b]8;;\u001b\\\u001b[2m:\u001b[0m\u001b]8;id=766266;file://c:\\Users\\Dell\\AppData\\Local\\Programs\\Python\\Python311\\Lib\\site-packages\\kedro_mlflow\\framework\\hooks\\mlflow_hook.py#65\u001b\\\u001b[2m65\u001b[0m\u001b]8;;\u001b\\\n"
      ]
     },
     "metadata": {},
     "output_type": "display_data"
    },
    {
     "data": {
      "text/html": [
       "<pre style=\"white-space:pre;overflow-x:auto;line-height:normal;font-family:Menlo,'DejaVu Sans Mono',consolas,'Courier New',monospace\"><span style=\"color: #7fbfbf; text-decoration-color: #7fbfbf\">                    </span><span style=\"color: #808000; text-decoration-color: #808000\">WARNING </span> No <span style=\"color: #008000; text-decoration-color: #008000\">'mlflow.yml'</span> config file found in environment. Default            <a href=\"file://c:\\Users\\Dell\\AppData\\Local\\Programs\\Python\\Python311\\Lib\\site-packages\\kedro_mlflow\\framework\\hooks\\mlflow_hook.py\" target=\"_blank\"><span style=\"color: #7f7f7f; text-decoration-color: #7f7f7f\">mlflow_hook.py</span></a><span style=\"color: #7f7f7f; text-decoration-color: #7f7f7f\">:</span><a href=\"file://c:\\Users\\Dell\\AppData\\Local\\Programs\\Python\\Python311\\Lib\\site-packages\\kedro_mlflow\\framework\\hooks\\mlflow_hook.py#78\" target=\"_blank\"><span style=\"color: #7f7f7f; text-decoration-color: #7f7f7f\">78</span></a>\n",
       "<span style=\"color: #7fbfbf; text-decoration-color: #7fbfbf\">                    </span>         configuration will be used. Use ``kedro mlflow init`` command in CLI <span style=\"color: #7f7f7f; text-decoration-color: #7f7f7f\">                 </span>\n",
       "<span style=\"color: #7fbfbf; text-decoration-color: #7fbfbf\">                    </span>         to customize the configuration.                                      <span style=\"color: #7f7f7f; text-decoration-color: #7f7f7f\">                 </span>\n",
       "</pre>\n"
      ],
      "text/plain": [
       "\u001b[2;36m                   \u001b[0m\u001b[2;36m \u001b[0m\u001b[33mWARNING \u001b[0m No \u001b[32m'mlflow.yml'\u001b[0m config file found in environment. Default            \u001b]8;id=991043;file://c:\\Users\\Dell\\AppData\\Local\\Programs\\Python\\Python311\\Lib\\site-packages\\kedro_mlflow\\framework\\hooks\\mlflow_hook.py\u001b\\\u001b[2mmlflow_hook.py\u001b[0m\u001b]8;;\u001b\\\u001b[2m:\u001b[0m\u001b]8;id=438960;file://c:\\Users\\Dell\\AppData\\Local\\Programs\\Python\\Python311\\Lib\\site-packages\\kedro_mlflow\\framework\\hooks\\mlflow_hook.py#78\u001b\\\u001b[2m78\u001b[0m\u001b]8;;\u001b\\\n",
       "\u001b[2;36m                    \u001b[0m         configuration will be used. Use ``kedro mlflow init`` command in CLI \u001b[2m                 \u001b[0m\n",
       "\u001b[2;36m                    \u001b[0m         to customize the configuration.                                      \u001b[2m                 \u001b[0m\n"
      ]
     },
     "metadata": {},
     "output_type": "display_data"
    },
    {
     "data": {
      "text/html": [
       "<pre style=\"white-space:pre;overflow-x:auto;line-height:normal;font-family:Menlo,'DejaVu Sans Mono',consolas,'Courier New',monospace\"><span style=\"color: #7fbfbf; text-decoration-color: #7fbfbf\">                    </span><span style=\"color: #000080; text-decoration-color: #000080\">INFO    </span> The <span style=\"color: #008000; text-decoration-color: #008000\">'tracking_uri'</span> key in mlflow.yml is relative            <a href=\"file://c:\\Users\\Dell\\AppData\\Local\\Programs\\Python\\Python311\\Lib\\site-packages\\kedro_mlflow\\config\\kedro_mlflow_config.py\" target=\"_blank\"><span style=\"color: #7f7f7f; text-decoration-color: #7f7f7f\">kedro_mlflow_config.py</span></a><span style=\"color: #7f7f7f; text-decoration-color: #7f7f7f\">:</span><a href=\"file://c:\\Users\\Dell\\AppData\\Local\\Programs\\Python\\Python311\\Lib\\site-packages\\kedro_mlflow\\config\\kedro_mlflow_config.py#293\" target=\"_blank\"><span style=\"color: #7f7f7f; text-decoration-color: #7f7f7f\">293</span></a>\n",
       "<span style=\"color: #7fbfbf; text-decoration-color: #7fbfbf\">                    </span>         <span style=\"font-weight: bold\">(</span><span style=\"color: #008000; text-decoration-color: #008000\">'server.mlflow_(tracking|registry)_uri = mlruns'</span><span style=\"font-weight: bold\">)</span>. It is   <span style=\"color: #7f7f7f; text-decoration-color: #7f7f7f\">                          </span>\n",
       "<span style=\"color: #7fbfbf; text-decoration-color: #7fbfbf\">                    </span>         converted to a valid uri:                                   <span style=\"color: #7f7f7f; text-decoration-color: #7f7f7f\">                          </span>\n",
       "<span style=\"color: #7fbfbf; text-decoration-color: #7fbfbf\">                    </span>         <span style=\"color: #008000; text-decoration-color: #008000\">'file:///C:/Users/Dell/Downloads/Engenharia_de_Machine_Lear</span> <span style=\"color: #7f7f7f; text-decoration-color: #7f7f7f\">                          </span>\n",
       "<span style=\"color: #7fbfbf; text-decoration-color: #7fbfbf\">                    </span>         <span style=\"color: #008000; text-decoration-color: #008000\">ning/python/kobe/mlruns'</span>                                    <span style=\"color: #7f7f7f; text-decoration-color: #7f7f7f\">                          </span>\n",
       "</pre>\n"
      ],
      "text/plain": [
       "\u001b[2;36m                   \u001b[0m\u001b[2;36m \u001b[0m\u001b[34mINFO    \u001b[0m The \u001b[32m'tracking_uri'\u001b[0m key in mlflow.yml is relative            \u001b]8;id=192175;file://c:\\Users\\Dell\\AppData\\Local\\Programs\\Python\\Python311\\Lib\\site-packages\\kedro_mlflow\\config\\kedro_mlflow_config.py\u001b\\\u001b[2mkedro_mlflow_config.py\u001b[0m\u001b]8;;\u001b\\\u001b[2m:\u001b[0m\u001b]8;id=24117;file://c:\\Users\\Dell\\AppData\\Local\\Programs\\Python\\Python311\\Lib\\site-packages\\kedro_mlflow\\config\\kedro_mlflow_config.py#293\u001b\\\u001b[2m293\u001b[0m\u001b]8;;\u001b\\\n",
       "\u001b[2;36m                    \u001b[0m         \u001b[1m(\u001b[0m\u001b[32m'server.mlflow_\u001b[0m\u001b[32m(\u001b[0m\u001b[32mtracking|registry\u001b[0m\u001b[32m)\u001b[0m\u001b[32m_uri = mlruns'\u001b[0m\u001b[1m)\u001b[0m. It is   \u001b[2m                          \u001b[0m\n",
       "\u001b[2;36m                    \u001b[0m         converted to a valid uri:                                   \u001b[2m                          \u001b[0m\n",
       "\u001b[2;36m                    \u001b[0m         \u001b[32m'file:///C:/Users/Dell/Downloads/Engenharia_de_Machine_Lear\u001b[0m \u001b[2m                          \u001b[0m\n",
       "\u001b[2;36m                    \u001b[0m         \u001b[32mning/python/kobe/mlruns'\u001b[0m                                    \u001b[2m                          \u001b[0m\n"
      ]
     },
     "metadata": {},
     "output_type": "display_data"
    },
    {
     "data": {
      "text/html": [
       "<pre style=\"white-space:pre;overflow-x:auto;line-height:normal;font-family:Menlo,'DejaVu Sans Mono',consolas,'Courier New',monospace\"><span style=\"color: #7fbfbf; text-decoration-color: #7fbfbf\">                    </span><span style=\"color: #000080; text-decoration-color: #000080\">INFO    </span> Kedro is sending anonymous usage data with the sole purpose of improving <a href=\"file://c:\\Users\\Dell\\AppData\\Local\\Programs\\Python\\Python311\\Lib\\site-packages\\kedro_telemetry\\plugin.py\" target=\"_blank\"><span style=\"color: #7f7f7f; text-decoration-color: #7f7f7f\">plugin.py</span></a><span style=\"color: #7f7f7f; text-decoration-color: #7f7f7f\">:</span><a href=\"file://c:\\Users\\Dell\\AppData\\Local\\Programs\\Python\\Python311\\Lib\\site-packages\\kedro_telemetry\\plugin.py#233\" target=\"_blank\"><span style=\"color: #7f7f7f; text-decoration-color: #7f7f7f\">233</span></a>\n",
       "<span style=\"color: #7fbfbf; text-decoration-color: #7fbfbf\">                    </span>         the product. No personal data or IP addresses are stored on our side. If <span style=\"color: #7f7f7f; text-decoration-color: #7f7f7f\">             </span>\n",
       "<span style=\"color: #7fbfbf; text-decoration-color: #7fbfbf\">                    </span>         you want to opt out, set the `KEDRO_DISABLE_TELEMETRY` or `DO_NOT_TRACK` <span style=\"color: #7f7f7f; text-decoration-color: #7f7f7f\">             </span>\n",
       "<span style=\"color: #7fbfbf; text-decoration-color: #7fbfbf\">                    </span>         environment variables, or create a `.telemetry` file in the current      <span style=\"color: #7f7f7f; text-decoration-color: #7f7f7f\">             </span>\n",
       "<span style=\"color: #7fbfbf; text-decoration-color: #7fbfbf\">                    </span>         working directory with the contents `consent: false`. Read more at       <span style=\"color: #7f7f7f; text-decoration-color: #7f7f7f\">             </span>\n",
       "<span style=\"color: #7fbfbf; text-decoration-color: #7fbfbf\">                    </span>         <span style=\"color: #0000ff; text-decoration-color: #0000ff; text-decoration: underline\">https://docs.kedro.org/en/stable/configuration/telemetry.html</span>            <span style=\"color: #7f7f7f; text-decoration-color: #7f7f7f\">             </span>\n",
       "</pre>\n"
      ],
      "text/plain": [
       "\u001b[2;36m                   \u001b[0m\u001b[2;36m \u001b[0m\u001b[34mINFO    \u001b[0m Kedro is sending anonymous usage data with the sole purpose of improving \u001b]8;id=552077;file://c:\\Users\\Dell\\AppData\\Local\\Programs\\Python\\Python311\\Lib\\site-packages\\kedro_telemetry\\plugin.py\u001b\\\u001b[2mplugin.py\u001b[0m\u001b]8;;\u001b\\\u001b[2m:\u001b[0m\u001b]8;id=516592;file://c:\\Users\\Dell\\AppData\\Local\\Programs\\Python\\Python311\\Lib\\site-packages\\kedro_telemetry\\plugin.py#233\u001b\\\u001b[2m233\u001b[0m\u001b]8;;\u001b\\\n",
       "\u001b[2;36m                    \u001b[0m         the product. No personal data or IP addresses are stored on our side. If \u001b[2m             \u001b[0m\n",
       "\u001b[2;36m                    \u001b[0m         you want to opt out, set the `KEDRO_DISABLE_TELEMETRY` or `DO_NOT_TRACK` \u001b[2m             \u001b[0m\n",
       "\u001b[2;36m                    \u001b[0m         environment variables, or create a `.telemetry` file in the current      \u001b[2m             \u001b[0m\n",
       "\u001b[2;36m                    \u001b[0m         working directory with the contents `consent: false`. Read more at       \u001b[2m             \u001b[0m\n",
       "\u001b[2;36m                    \u001b[0m         \u001b[4;94mhttps://docs.kedro.org/en/stable/configuration/telemetry.html\u001b[0m            \u001b[2m             \u001b[0m\n"
      ]
     },
     "metadata": {},
     "output_type": "display_data"
    }
   ],
   "source": [
    "#abrindo a sessao manualmente para funcinar no vcscod\n",
    "from kedro.framework.session import KedroSession\n",
    "session = KedroSession.create(project_path=\"../\")\n",
    "context = session.load_context()\n",
    "catalog = context.catalog"
   ]
  },
  {
   "cell_type": "code",
   "execution_count": 2,
   "metadata": {},
   "outputs": [
    {
     "data": {
      "text/html": [
       "<pre style=\"white-space:pre;overflow-x:auto;line-height:normal;font-family:Menlo,'DejaVu Sans Mono',consolas,'Courier New',monospace\"><span style=\"color: #7fbfbf; text-decoration-color: #7fbfbf\">[04/02/25 17:41:14] </span><span style=\"color: #000080; text-decoration-color: #000080\">INFO    </span> Loading data from <span style=\"color: #ff8700; text-decoration-color: #ff8700\">train_set</span> <span style=\"font-weight: bold\">(</span>ParquetDataset<span style=\"font-weight: bold\">)</span><span style=\"color: #808000; text-decoration-color: #808000\">...</span>                    <a href=\"file://c:\\Users\\Dell\\AppData\\Local\\Programs\\Python\\Python311\\Lib\\site-packages\\kedro\\io\\data_catalog.py\" target=\"_blank\"><span style=\"color: #7f7f7f; text-decoration-color: #7f7f7f\">data_catalog.py</span></a><span style=\"color: #7f7f7f; text-decoration-color: #7f7f7f\">:</span><a href=\"file://c:\\Users\\Dell\\AppData\\Local\\Programs\\Python\\Python311\\Lib\\site-packages\\kedro\\io\\data_catalog.py#401\" target=\"_blank\"><span style=\"color: #7f7f7f; text-decoration-color: #7f7f7f\">401</span></a>\n",
       "</pre>\n"
      ],
      "text/plain": [
       "\u001b[2;36m[04/02/25 17:41:14]\u001b[0m\u001b[2;36m \u001b[0m\u001b[34mINFO    \u001b[0m Loading data from \u001b[38;5;208mtrain_set\u001b[0m \u001b[1m(\u001b[0mParquetDataset\u001b[1m)\u001b[0m\u001b[33m...\u001b[0m                    \u001b]8;id=865681;file://c:\\Users\\Dell\\AppData\\Local\\Programs\\Python\\Python311\\Lib\\site-packages\\kedro\\io\\data_catalog.py\u001b\\\u001b[2mdata_catalog.py\u001b[0m\u001b]8;;\u001b\\\u001b[2m:\u001b[0m\u001b]8;id=252343;file://c:\\Users\\Dell\\AppData\\Local\\Programs\\Python\\Python311\\Lib\\site-packages\\kedro\\io\\data_catalog.py#401\u001b\\\u001b[2m401\u001b[0m\u001b]8;;\u001b\\\n"
      ]
     },
     "metadata": {},
     "output_type": "display_data"
    },
    {
     "data": {
      "text/html": [
       "<pre style=\"white-space:pre;overflow-x:auto;line-height:normal;font-family:Menlo,'DejaVu Sans Mono',consolas,'Courier New',monospace\"><span style=\"color: #7fbfbf; text-decoration-color: #7fbfbf\">                    </span><span style=\"color: #000080; text-decoration-color: #000080\">INFO    </span> Loading data from <span style=\"color: #ff8700; text-decoration-color: #ff8700\">params:session_id</span> <span style=\"font-weight: bold\">(</span>MemoryDataset<span style=\"font-weight: bold\">)</span><span style=\"color: #808000; text-decoration-color: #808000\">...</span>             <a href=\"file://c:\\Users\\Dell\\AppData\\Local\\Programs\\Python\\Python311\\Lib\\site-packages\\kedro\\io\\data_catalog.py\" target=\"_blank\"><span style=\"color: #7f7f7f; text-decoration-color: #7f7f7f\">data_catalog.py</span></a><span style=\"color: #7f7f7f; text-decoration-color: #7f7f7f\">:</span><a href=\"file://c:\\Users\\Dell\\AppData\\Local\\Programs\\Python\\Python311\\Lib\\site-packages\\kedro\\io\\data_catalog.py#401\" target=\"_blank\"><span style=\"color: #7f7f7f; text-decoration-color: #7f7f7f\">401</span></a>\n",
       "</pre>\n"
      ],
      "text/plain": [
       "\u001b[2;36m                   \u001b[0m\u001b[2;36m \u001b[0m\u001b[34mINFO    \u001b[0m Loading data from \u001b[38;5;208mparams:session_id\u001b[0m \u001b[1m(\u001b[0mMemoryDataset\u001b[1m)\u001b[0m\u001b[33m...\u001b[0m             \u001b]8;id=271344;file://c:\\Users\\Dell\\AppData\\Local\\Programs\\Python\\Python311\\Lib\\site-packages\\kedro\\io\\data_catalog.py\u001b\\\u001b[2mdata_catalog.py\u001b[0m\u001b]8;;\u001b\\\u001b[2m:\u001b[0m\u001b]8;id=606489;file://c:\\Users\\Dell\\AppData\\Local\\Programs\\Python\\Python311\\Lib\\site-packages\\kedro\\io\\data_catalog.py#401\u001b\\\u001b[2m401\u001b[0m\u001b]8;;\u001b\\\n"
      ]
     },
     "metadata": {},
     "output_type": "display_data"
    }
   ],
   "source": [
    "data_filtered = catalog.load(\"train_set\")\n",
    "session_id = catalog.load('params:session_id')"
   ]
  },
  {
   "cell_type": "code",
   "execution_count": 3,
   "metadata": {},
   "outputs": [],
   "source": [
    "from pycaret.classification import *"
   ]
  },
  {
   "cell_type": "code",
   "execution_count": 4,
   "metadata": {},
   "outputs": [
    {
     "data": {
      "text/html": [
       "<pre style=\"white-space:pre;overflow-x:auto;line-height:normal;font-family:Menlo,'DejaVu Sans Mono',consolas,'Courier New',monospace\"></pre>\n"
      ],
      "text/plain": []
     },
     "metadata": {},
     "output_type": "display_data"
    },
    {
     "data": {
      "text/html": [
       "<style type=\"text/css\">\n",
       "#T_1725a_row8_col1 {\n",
       "  background-color: lightgreen;\n",
       "}\n",
       "</style>\n",
       "<table id=\"T_1725a\">\n",
       "  <thead>\n",
       "    <tr>\n",
       "      <th class=\"blank level0\" >&nbsp;</th>\n",
       "      <th id=\"T_1725a_level0_col0\" class=\"col_heading level0 col0\" >Description</th>\n",
       "      <th id=\"T_1725a_level0_col1\" class=\"col_heading level0 col1\" >Value</th>\n",
       "    </tr>\n",
       "  </thead>\n",
       "  <tbody>\n",
       "    <tr>\n",
       "      <th id=\"T_1725a_level0_row0\" class=\"row_heading level0 row0\" >0</th>\n",
       "      <td id=\"T_1725a_row0_col0\" class=\"data row0 col0\" >Session id</td>\n",
       "      <td id=\"T_1725a_row0_col1\" class=\"data row0 col1\" >12345</td>\n",
       "    </tr>\n",
       "    <tr>\n",
       "      <th id=\"T_1725a_level0_row1\" class=\"row_heading level0 row1\" >1</th>\n",
       "      <td id=\"T_1725a_row1_col0\" class=\"data row1 col0\" >Target</td>\n",
       "      <td id=\"T_1725a_row1_col1\" class=\"data row1 col1\" >shot_made_flag</td>\n",
       "    </tr>\n",
       "    <tr>\n",
       "      <th id=\"T_1725a_level0_row2\" class=\"row_heading level0 row2\" >2</th>\n",
       "      <td id=\"T_1725a_row2_col0\" class=\"data row2 col0\" >Target type</td>\n",
       "      <td id=\"T_1725a_row2_col1\" class=\"data row2 col1\" >Binary</td>\n",
       "    </tr>\n",
       "    <tr>\n",
       "      <th id=\"T_1725a_level0_row3\" class=\"row_heading level0 row3\" >3</th>\n",
       "      <td id=\"T_1725a_row3_col0\" class=\"data row3 col0\" >Original data shape</td>\n",
       "      <td id=\"T_1725a_row3_col1\" class=\"data row3 col1\" >(16228, 7)</td>\n",
       "    </tr>\n",
       "    <tr>\n",
       "      <th id=\"T_1725a_level0_row4\" class=\"row_heading level0 row4\" >4</th>\n",
       "      <td id=\"T_1725a_row4_col0\" class=\"data row4 col0\" >Transformed data shape</td>\n",
       "      <td id=\"T_1725a_row4_col1\" class=\"data row4 col1\" >(16228, 7)</td>\n",
       "    </tr>\n",
       "    <tr>\n",
       "      <th id=\"T_1725a_level0_row5\" class=\"row_heading level0 row5\" >5</th>\n",
       "      <td id=\"T_1725a_row5_col0\" class=\"data row5 col0\" >Transformed train set shape</td>\n",
       "      <td id=\"T_1725a_row5_col1\" class=\"data row5 col1\" >(11359, 7)</td>\n",
       "    </tr>\n",
       "    <tr>\n",
       "      <th id=\"T_1725a_level0_row6\" class=\"row_heading level0 row6\" >6</th>\n",
       "      <td id=\"T_1725a_row6_col0\" class=\"data row6 col0\" >Transformed test set shape</td>\n",
       "      <td id=\"T_1725a_row6_col1\" class=\"data row6 col1\" >(4869, 7)</td>\n",
       "    </tr>\n",
       "    <tr>\n",
       "      <th id=\"T_1725a_level0_row7\" class=\"row_heading level0 row7\" >7</th>\n",
       "      <td id=\"T_1725a_row7_col0\" class=\"data row7 col0\" >Numeric features</td>\n",
       "      <td id=\"T_1725a_row7_col1\" class=\"data row7 col1\" >6</td>\n",
       "    </tr>\n",
       "    <tr>\n",
       "      <th id=\"T_1725a_level0_row8\" class=\"row_heading level0 row8\" >8</th>\n",
       "      <td id=\"T_1725a_row8_col0\" class=\"data row8 col0\" >Preprocess</td>\n",
       "      <td id=\"T_1725a_row8_col1\" class=\"data row8 col1\" >True</td>\n",
       "    </tr>\n",
       "    <tr>\n",
       "      <th id=\"T_1725a_level0_row9\" class=\"row_heading level0 row9\" >9</th>\n",
       "      <td id=\"T_1725a_row9_col0\" class=\"data row9 col0\" >Imputation type</td>\n",
       "      <td id=\"T_1725a_row9_col1\" class=\"data row9 col1\" >simple</td>\n",
       "    </tr>\n",
       "    <tr>\n",
       "      <th id=\"T_1725a_level0_row10\" class=\"row_heading level0 row10\" >10</th>\n",
       "      <td id=\"T_1725a_row10_col0\" class=\"data row10 col0\" >Numeric imputation</td>\n",
       "      <td id=\"T_1725a_row10_col1\" class=\"data row10 col1\" >mean</td>\n",
       "    </tr>\n",
       "    <tr>\n",
       "      <th id=\"T_1725a_level0_row11\" class=\"row_heading level0 row11\" >11</th>\n",
       "      <td id=\"T_1725a_row11_col0\" class=\"data row11 col0\" >Categorical imputation</td>\n",
       "      <td id=\"T_1725a_row11_col1\" class=\"data row11 col1\" >mode</td>\n",
       "    </tr>\n",
       "    <tr>\n",
       "      <th id=\"T_1725a_level0_row12\" class=\"row_heading level0 row12\" >12</th>\n",
       "      <td id=\"T_1725a_row12_col0\" class=\"data row12 col0\" >Fold Generator</td>\n",
       "      <td id=\"T_1725a_row12_col1\" class=\"data row12 col1\" >StratifiedKFold</td>\n",
       "    </tr>\n",
       "    <tr>\n",
       "      <th id=\"T_1725a_level0_row13\" class=\"row_heading level0 row13\" >13</th>\n",
       "      <td id=\"T_1725a_row13_col0\" class=\"data row13 col0\" >Fold Number</td>\n",
       "      <td id=\"T_1725a_row13_col1\" class=\"data row13 col1\" >10</td>\n",
       "    </tr>\n",
       "    <tr>\n",
       "      <th id=\"T_1725a_level0_row14\" class=\"row_heading level0 row14\" >14</th>\n",
       "      <td id=\"T_1725a_row14_col0\" class=\"data row14 col0\" >CPU Jobs</td>\n",
       "      <td id=\"T_1725a_row14_col1\" class=\"data row14 col1\" >-1</td>\n",
       "    </tr>\n",
       "    <tr>\n",
       "      <th id=\"T_1725a_level0_row15\" class=\"row_heading level0 row15\" >15</th>\n",
       "      <td id=\"T_1725a_row15_col0\" class=\"data row15 col0\" >Use GPU</td>\n",
       "      <td id=\"T_1725a_row15_col1\" class=\"data row15 col1\" >False</td>\n",
       "    </tr>\n",
       "    <tr>\n",
       "      <th id=\"T_1725a_level0_row16\" class=\"row_heading level0 row16\" >16</th>\n",
       "      <td id=\"T_1725a_row16_col0\" class=\"data row16 col0\" >Log Experiment</td>\n",
       "      <td id=\"T_1725a_row16_col1\" class=\"data row16 col1\" >False</td>\n",
       "    </tr>\n",
       "    <tr>\n",
       "      <th id=\"T_1725a_level0_row17\" class=\"row_heading level0 row17\" >17</th>\n",
       "      <td id=\"T_1725a_row17_col0\" class=\"data row17 col0\" >Experiment Name</td>\n",
       "      <td id=\"T_1725a_row17_col1\" class=\"data row17 col1\" >clf-default-name</td>\n",
       "    </tr>\n",
       "    <tr>\n",
       "      <th id=\"T_1725a_level0_row18\" class=\"row_heading level0 row18\" >18</th>\n",
       "      <td id=\"T_1725a_row18_col0\" class=\"data row18 col0\" >USI</td>\n",
       "      <td id=\"T_1725a_row18_col1\" class=\"data row18 col1\" >7aea</td>\n",
       "    </tr>\n",
       "  </tbody>\n",
       "</table>\n"
      ],
      "text/plain": [
       "\u001b[1m<\u001b[0m\u001b[1;95mpandas.io.formats.style.Styler\u001b[0m\u001b[39m object at \u001b[0m\u001b[1;36m0x000001973A715610\u001b[0m\u001b[1m>\u001b[0m"
      ]
     },
     "metadata": {},
     "output_type": "display_data"
    },
    {
     "data": {
      "text/html": [
       "<pre style=\"white-space:pre;overflow-x:auto;line-height:normal;font-family:Menlo,'DejaVu Sans Mono',consolas,'Courier New',monospace\"></pre>\n"
      ],
      "text/plain": []
     },
     "metadata": {},
     "output_type": "display_data"
    },
    {
     "data": {
      "text/html": [
       "<pre style=\"white-space:pre;overflow-x:auto;line-height:normal;font-family:Menlo,'DejaVu Sans Mono',consolas,'Courier New',monospace\"></pre>\n"
      ],
      "text/plain": []
     },
     "metadata": {},
     "output_type": "display_data"
    },
    {
     "data": {
      "text/plain": [
       "\u001b[1m<\u001b[0m\u001b[1;95mpycaret.classification.oop.ClassificationExperiment\u001b[0m\u001b[39m object at \u001b[0m\u001b[1;36m0x0000019737486C50\u001b[0m\u001b[1m>\u001b[0m"
      ]
     },
     "execution_count": 4,
     "metadata": {},
     "output_type": "execute_result"
    }
   ],
   "source": [
    "exp = ClassificationExperiment()\n",
    "#exp.setup(data=train, target='Survived', session_id=session_id, log_experiment='mlflow', experiment_name='titanic_pycaret')\n",
    "exp.setup(data=data_filtered, target='shot_made_flag', session_id=session_id)"
   ]
  },
  {
   "cell_type": "code",
   "execution_count": 5,
   "metadata": {},
   "outputs": [
    {
     "data": {
      "text/html": [
       "<pre style=\"white-space:pre;overflow-x:auto;line-height:normal;font-family:Menlo,'DejaVu Sans Mono',consolas,'Courier New',monospace\"></pre>\n"
      ],
      "text/plain": []
     },
     "metadata": {},
     "output_type": "display_data"
    },
    {
     "data": {
      "text/html": [
       "<div>\n",
       "<style scoped>\n",
       "    .dataframe tbody tr th:only-of-type {\n",
       "        vertical-align: middle;\n",
       "    }\n",
       "\n",
       "    .dataframe tbody tr th {\n",
       "        vertical-align: top;\n",
       "    }\n",
       "\n",
       "    .dataframe thead th {\n",
       "        text-align: right;\n",
       "    }\n",
       "</style>\n",
       "<table border=\"1\" class=\"dataframe\">\n",
       "  <thead>\n",
       "    <tr style=\"text-align: right;\">\n",
       "      <th></th>\n",
       "      <th>Name</th>\n",
       "      <th>Display Name</th>\n",
       "      <th>Score Function</th>\n",
       "      <th>Scorer</th>\n",
       "      <th>Target</th>\n",
       "      <th>Args</th>\n",
       "      <th>Greater is Better</th>\n",
       "      <th>Multiclass</th>\n",
       "      <th>Custom</th>\n",
       "    </tr>\n",
       "    <tr>\n",
       "      <th>ID</th>\n",
       "      <th></th>\n",
       "      <th></th>\n",
       "      <th></th>\n",
       "      <th></th>\n",
       "      <th></th>\n",
       "      <th></th>\n",
       "      <th></th>\n",
       "      <th></th>\n",
       "      <th></th>\n",
       "    </tr>\n",
       "  </thead>\n",
       "  <tbody>\n",
       "    <tr>\n",
       "      <th>acc</th>\n",
       "      <td>Accuracy</td>\n",
       "      <td>Accuracy</td>\n",
       "      <td>&lt;function accuracy_score at 0x0000019733E1D6C0&gt;</td>\n",
       "      <td>accuracy</td>\n",
       "      <td>pred</td>\n",
       "      <td>{}</td>\n",
       "      <td>True</td>\n",
       "      <td>True</td>\n",
       "      <td>False</td>\n",
       "    </tr>\n",
       "    <tr>\n",
       "      <th>auc</th>\n",
       "      <td>AUC</td>\n",
       "      <td>AUC</td>\n",
       "      <td>&lt;pycaret.internal.metrics.BinaryMulticlassScor...</td>\n",
       "      <td>make_scorer(roc_auc_score, response_method=('d...</td>\n",
       "      <td>pred_proba</td>\n",
       "      <td>{'average': 'weighted', 'multi_class': 'ovr'}</td>\n",
       "      <td>True</td>\n",
       "      <td>True</td>\n",
       "      <td>False</td>\n",
       "    </tr>\n",
       "    <tr>\n",
       "      <th>recall</th>\n",
       "      <td>Recall</td>\n",
       "      <td>Recall</td>\n",
       "      <td>&lt;pycaret.internal.metrics.BinaryMulticlassScor...</td>\n",
       "      <td>make_scorer(recall_score, response_method='pre...</td>\n",
       "      <td>pred</td>\n",
       "      <td>{'average': 'weighted'}</td>\n",
       "      <td>True</td>\n",
       "      <td>True</td>\n",
       "      <td>False</td>\n",
       "    </tr>\n",
       "    <tr>\n",
       "      <th>precision</th>\n",
       "      <td>Precision</td>\n",
       "      <td>Prec.</td>\n",
       "      <td>&lt;pycaret.internal.metrics.BinaryMulticlassScor...</td>\n",
       "      <td>make_scorer(precision_score, response_method='...</td>\n",
       "      <td>pred</td>\n",
       "      <td>{'average': 'weighted'}</td>\n",
       "      <td>True</td>\n",
       "      <td>True</td>\n",
       "      <td>False</td>\n",
       "    </tr>\n",
       "    <tr>\n",
       "      <th>f1</th>\n",
       "      <td>F1</td>\n",
       "      <td>F1</td>\n",
       "      <td>&lt;pycaret.internal.metrics.BinaryMulticlassScor...</td>\n",
       "      <td>make_scorer(f1_score, response_method='predict...</td>\n",
       "      <td>pred</td>\n",
       "      <td>{'average': 'weighted'}</td>\n",
       "      <td>True</td>\n",
       "      <td>True</td>\n",
       "      <td>False</td>\n",
       "    </tr>\n",
       "    <tr>\n",
       "      <th>kappa</th>\n",
       "      <td>Kappa</td>\n",
       "      <td>Kappa</td>\n",
       "      <td>&lt;function cohen_kappa_score at 0x0000019733E1D...</td>\n",
       "      <td>make_scorer(cohen_kappa_score, response_method...</td>\n",
       "      <td>pred</td>\n",
       "      <td>{}</td>\n",
       "      <td>True</td>\n",
       "      <td>True</td>\n",
       "      <td>False</td>\n",
       "    </tr>\n",
       "    <tr>\n",
       "      <th>mcc</th>\n",
       "      <td>MCC</td>\n",
       "      <td>MCC</td>\n",
       "      <td>&lt;function matthews_corrcoef at 0x0000019733E1D...</td>\n",
       "      <td>make_scorer(matthews_corrcoef, response_method...</td>\n",
       "      <td>pred</td>\n",
       "      <td>{}</td>\n",
       "      <td>True</td>\n",
       "      <td>True</td>\n",
       "      <td>False</td>\n",
       "    </tr>\n",
       "  </tbody>\n",
       "</table>\n",
       "</div>"
      ],
      "text/plain": [
       "\n",
       "                Name Display Name  \\\n",
       "ID                                  \n",
       "acc         Accuracy     Accuracy   \n",
       "auc              AUC          AUC   \n",
       "recall        Recall       Recall   \n",
       "precision  Precision        Prec.   \n",
       "f1                F1           F1   \n",
       "kappa          Kappa        Kappa   \n",
       "mcc              MCC          MCC   \n",
       "\n",
       "                                              Score Function  \\\n",
       "ID                                                             \n",
       "acc          \u001b[1m<\u001b[0m\u001b[1;95mfunction\u001b[0m\u001b[39m accuracy_score at \u001b[0m\u001b[1;36m0x0000019733E1D6C0\u001b[0m\u001b[1m>\u001b[0m   \n",
       "auc        <pycaret.internal.metrics.BinaryMulticlassScor\u001b[33m...\u001b[0m   \n",
       "recall     <pycaret.internal.metrics.BinaryMulticlassScor\u001b[33m...\u001b[0m   \n",
       "precision  <pycaret.internal.metrics.BinaryMulticlassScor\u001b[33m...\u001b[0m   \n",
       "f1         <pycaret.internal.metrics.BinaryMulticlassScor\u001b[33m...\u001b[0m   \n",
       "kappa      <function cohen_kappa_score at \u001b[1;36m0x0000019733E1D\u001b[0m\u001b[33m...\u001b[0m   \n",
       "mcc        <function matthews_corrcoef at \u001b[1;36m0x0000019733E1D\u001b[0m\u001b[33m...\u001b[0m   \n",
       "\n",
       "                                                      Scorer      Target  \\\n",
       "ID                                                                         \n",
       "acc                                                 accuracy        pred   \n",
       "auc        \u001b[1;35mmake_scorer\u001b[0m\u001b[1m(\u001b[0mroc_auc_score, \u001b[33mresponse_method\u001b[0m=\u001b[1m(\u001b[0m'd\u001b[33m...\u001b[0m  pred_proba   \n",
       "recall     \u001b[1;35mmake_scorer\u001b[0m\u001b[1m(\u001b[0mrecall_score, \u001b[33mresponse_method\u001b[0m='pre\u001b[33m...\u001b[0m        pred   \n",
       "precision  \u001b[1;35mmake_scorer\u001b[0m\u001b[1m(\u001b[0mprecision_score, \u001b[33mresponse_method\u001b[0m='\u001b[33m...\u001b[0m        pred   \n",
       "f1         \u001b[1;35mmake_scorer\u001b[0m\u001b[1m(\u001b[0mf1_score, \u001b[33mresponse_method\u001b[0m='predict\u001b[33m...\u001b[0m        pred   \n",
       "kappa      \u001b[1;35mmake_scorer\u001b[0m\u001b[1m(\u001b[0mcohen_kappa_score, response_method\u001b[33m...\u001b[0m        pred   \n",
       "mcc        \u001b[1;35mmake_scorer\u001b[0m\u001b[1m(\u001b[0mmatthews_corrcoef, response_method\u001b[33m...\u001b[0m        pred   \n",
       "\n",
       "                                                    Args  Greater is Better  \\\n",
       "ID                                                                            \n",
       "acc                                                   \u001b[1m{\u001b[0m\u001b[1m}\u001b[0m               \u001b[3;92mTrue\u001b[0m   \n",
       "auc        \u001b[1m{\u001b[0m\u001b[32m'average'\u001b[0m: \u001b[32m'weighted'\u001b[0m, \u001b[32m'multi_class'\u001b[0m: \u001b[32m'ovr'\u001b[0m\u001b[1m}\u001b[0m               \u001b[3;92mTrue\u001b[0m   \n",
       "recall                           \u001b[1m{\u001b[0m\u001b[32m'average'\u001b[0m: \u001b[32m'weighted'\u001b[0m\u001b[1m}\u001b[0m               \u001b[3;92mTrue\u001b[0m   \n",
       "precision                        \u001b[1m{\u001b[0m\u001b[32m'average'\u001b[0m: \u001b[32m'weighted'\u001b[0m\u001b[1m}\u001b[0m               \u001b[3;92mTrue\u001b[0m   \n",
       "f1                               \u001b[1m{\u001b[0m\u001b[32m'average'\u001b[0m: \u001b[32m'weighted'\u001b[0m\u001b[1m}\u001b[0m               \u001b[3;92mTrue\u001b[0m   \n",
       "kappa                                                 \u001b[1m{\u001b[0m\u001b[1m}\u001b[0m               \u001b[3;92mTrue\u001b[0m   \n",
       "mcc                                                   \u001b[1m{\u001b[0m\u001b[1m}\u001b[0m               \u001b[3;92mTrue\u001b[0m   \n",
       "\n",
       "           Multiclass  Custom  \n",
       "ID                             \n",
       "acc              \u001b[3;92mTrue\u001b[0m   \u001b[3;91mFalse\u001b[0m  \n",
       "auc              \u001b[3;92mTrue\u001b[0m   \u001b[3;91mFalse\u001b[0m  \n",
       "recall           \u001b[3;92mTrue\u001b[0m   \u001b[3;91mFalse\u001b[0m  \n",
       "precision        \u001b[3;92mTrue\u001b[0m   \u001b[3;91mFalse\u001b[0m  \n",
       "f1               \u001b[3;92mTrue\u001b[0m   \u001b[3;91mFalse\u001b[0m  \n",
       "kappa            \u001b[3;92mTrue\u001b[0m   \u001b[3;91mFalse\u001b[0m  \n",
       "mcc              \u001b[3;92mTrue\u001b[0m   \u001b[3;91mFalse\u001b[0m  "
      ]
     },
     "execution_count": 5,
     "metadata": {},
     "output_type": "execute_result"
    }
   ],
   "source": [
    "exp.get_metrics()"
   ]
  },
  {
   "cell_type": "code",
   "execution_count": 6,
   "metadata": {},
   "outputs": [
    {
     "data": {
      "text/html": [
       "<pre style=\"white-space:pre;overflow-x:auto;line-height:normal;font-family:Menlo,'DejaVu Sans Mono',consolas,'Courier New',monospace\"></pre>\n"
      ],
      "text/plain": []
     },
     "metadata": {},
     "output_type": "display_data"
    },
    {
     "data": {
      "text/html": [],
      "text/plain": [
       "\u001b[1m<\u001b[0m\u001b[1;95mIPython.core.display.HTML\u001b[0m\u001b[39m object\u001b[0m\u001b[1m>\u001b[0m"
      ]
     },
     "metadata": {},
     "output_type": "display_data"
    },
    {
     "data": {
      "text/html": [
       "<pre style=\"white-space:pre;overflow-x:auto;line-height:normal;font-family:Menlo,'DejaVu Sans Mono',consolas,'Courier New',monospace\"></pre>\n"
      ],
      "text/plain": []
     },
     "metadata": {},
     "output_type": "display_data"
    },
    {
     "data": {
      "text/html": [
       "<style type=\"text/css\">\n",
       "#T_3e95e_row10_col0, #T_3e95e_row10_col1, #T_3e95e_row10_col2, #T_3e95e_row10_col3, #T_3e95e_row10_col4, #T_3e95e_row10_col5, #T_3e95e_row10_col6 {\n",
       "  background: yellow;\n",
       "}\n",
       "</style>\n",
       "<table id=\"T_3e95e\">\n",
       "  <thead>\n",
       "    <tr>\n",
       "      <th class=\"blank level0\" >&nbsp;</th>\n",
       "      <th id=\"T_3e95e_level0_col0\" class=\"col_heading level0 col0\" >Accuracy</th>\n",
       "      <th id=\"T_3e95e_level0_col1\" class=\"col_heading level0 col1\" >AUC</th>\n",
       "      <th id=\"T_3e95e_level0_col2\" class=\"col_heading level0 col2\" >Recall</th>\n",
       "      <th id=\"T_3e95e_level0_col3\" class=\"col_heading level0 col3\" >Prec.</th>\n",
       "      <th id=\"T_3e95e_level0_col4\" class=\"col_heading level0 col4\" >F1</th>\n",
       "      <th id=\"T_3e95e_level0_col5\" class=\"col_heading level0 col5\" >Kappa</th>\n",
       "      <th id=\"T_3e95e_level0_col6\" class=\"col_heading level0 col6\" >MCC</th>\n",
       "    </tr>\n",
       "    <tr>\n",
       "      <th class=\"index_name level0\" >Fold</th>\n",
       "      <th class=\"blank col0\" >&nbsp;</th>\n",
       "      <th class=\"blank col1\" >&nbsp;</th>\n",
       "      <th class=\"blank col2\" >&nbsp;</th>\n",
       "      <th class=\"blank col3\" >&nbsp;</th>\n",
       "      <th class=\"blank col4\" >&nbsp;</th>\n",
       "      <th class=\"blank col5\" >&nbsp;</th>\n",
       "      <th class=\"blank col6\" >&nbsp;</th>\n",
       "    </tr>\n",
       "  </thead>\n",
       "  <tbody>\n",
       "    <tr>\n",
       "      <th id=\"T_3e95e_level0_row0\" class=\"row_heading level0 row0\" >0</th>\n",
       "      <td id=\"T_3e95e_row0_col0\" class=\"data row0 col0\" >0.5660</td>\n",
       "      <td id=\"T_3e95e_row0_col1\" class=\"data row0 col1\" >0.5785</td>\n",
       "      <td id=\"T_3e95e_row0_col2\" class=\"data row0 col2\" >0.4696</td>\n",
       "      <td id=\"T_3e95e_row0_col3\" class=\"data row0 col3\" >0.5543</td>\n",
       "      <td id=\"T_3e95e_row0_col4\" class=\"data row0 col4\" >0.5085</td>\n",
       "      <td id=\"T_3e95e_row0_col5\" class=\"data row0 col5\" >0.1247</td>\n",
       "      <td id=\"T_3e95e_row0_col6\" class=\"data row0 col6\" >0.1261</td>\n",
       "    </tr>\n",
       "    <tr>\n",
       "      <th id=\"T_3e95e_level0_row1\" class=\"row_heading level0 row1\" >1</th>\n",
       "      <td id=\"T_3e95e_row1_col0\" class=\"data row1 col0\" >0.5739</td>\n",
       "      <td id=\"T_3e95e_row1_col1\" class=\"data row1 col1\" >0.5774</td>\n",
       "      <td id=\"T_3e95e_row1_col2\" class=\"data row1 col2\" >0.5009</td>\n",
       "      <td id=\"T_3e95e_row1_col3\" class=\"data row1 col3\" >0.5608</td>\n",
       "      <td id=\"T_3e95e_row1_col4\" class=\"data row1 col4\" >0.5292</td>\n",
       "      <td id=\"T_3e95e_row1_col5\" class=\"data row1 col5\" >0.1424</td>\n",
       "      <td id=\"T_3e95e_row1_col6\" class=\"data row1 col6\" >0.1431</td>\n",
       "    </tr>\n",
       "    <tr>\n",
       "      <th id=\"T_3e95e_level0_row2\" class=\"row_heading level0 row2\" >2</th>\n",
       "      <td id=\"T_3e95e_row2_col0\" class=\"data row2 col0\" >0.5519</td>\n",
       "      <td id=\"T_3e95e_row2_col1\" class=\"data row2 col1\" >0.5831</td>\n",
       "      <td id=\"T_3e95e_row2_col2\" class=\"data row2 col2\" >0.4751</td>\n",
       "      <td id=\"T_3e95e_row2_col3\" class=\"data row2 col3\" >0.5353</td>\n",
       "      <td id=\"T_3e95e_row2_col4\" class=\"data row2 col4\" >0.5034</td>\n",
       "      <td id=\"T_3e95e_row2_col5\" class=\"data row2 col5\" >0.0979</td>\n",
       "      <td id=\"T_3e95e_row2_col6\" class=\"data row2 col6\" >0.0984</td>\n",
       "    </tr>\n",
       "    <tr>\n",
       "      <th id=\"T_3e95e_level0_row3\" class=\"row_heading level0 row3\" >3</th>\n",
       "      <td id=\"T_3e95e_row3_col0\" class=\"data row3 col0\" >0.5960</td>\n",
       "      <td id=\"T_3e95e_row3_col1\" class=\"data row3 col1\" >0.6117</td>\n",
       "      <td id=\"T_3e95e_row3_col2\" class=\"data row3 col2\" >0.4954</td>\n",
       "      <td id=\"T_3e95e_row3_col3\" class=\"data row3 col3\" >0.5925</td>\n",
       "      <td id=\"T_3e95e_row3_col4\" class=\"data row3 col4\" >0.5396</td>\n",
       "      <td id=\"T_3e95e_row3_col5\" class=\"data row3 col5\" >0.1847</td>\n",
       "      <td id=\"T_3e95e_row3_col6\" class=\"data row3 col6\" >0.1871</td>\n",
       "    </tr>\n",
       "    <tr>\n",
       "      <th id=\"T_3e95e_level0_row4\" class=\"row_heading level0 row4\" >4</th>\n",
       "      <td id=\"T_3e95e_row4_col0\" class=\"data row4 col0\" >0.6021</td>\n",
       "      <td id=\"T_3e95e_row4_col1\" class=\"data row4 col1\" >0.6285</td>\n",
       "      <td id=\"T_3e95e_row4_col2\" class=\"data row4 col2\" >0.4880</td>\n",
       "      <td id=\"T_3e95e_row4_col3\" class=\"data row4 col3\" >0.6036</td>\n",
       "      <td id=\"T_3e95e_row4_col4\" class=\"data row4 col4\" >0.5397</td>\n",
       "      <td id=\"T_3e95e_row4_col5\" class=\"data row4 col5\" >0.1962</td>\n",
       "      <td id=\"T_3e95e_row4_col6\" class=\"data row4 col6\" >0.1996</td>\n",
       "    </tr>\n",
       "    <tr>\n",
       "      <th id=\"T_3e95e_level0_row5\" class=\"row_heading level0 row5\" >5</th>\n",
       "      <td id=\"T_3e95e_row5_col0\" class=\"data row5 col0\" >0.5590</td>\n",
       "      <td id=\"T_3e95e_row5_col1\" class=\"data row5 col1\" >0.5989</td>\n",
       "      <td id=\"T_3e95e_row5_col2\" class=\"data row5 col2\" >0.4549</td>\n",
       "      <td id=\"T_3e95e_row5_col3\" class=\"data row5 col3\" >0.5465</td>\n",
       "      <td id=\"T_3e95e_row5_col4\" class=\"data row5 col4\" >0.4965</td>\n",
       "      <td id=\"T_3e95e_row5_col5\" class=\"data row5 col5\" >0.1100</td>\n",
       "      <td id=\"T_3e95e_row5_col6\" class=\"data row5 col6\" >0.1114</td>\n",
       "    </tr>\n",
       "    <tr>\n",
       "      <th id=\"T_3e95e_level0_row6\" class=\"row_heading level0 row6\" >6</th>\n",
       "      <td id=\"T_3e95e_row6_col0\" class=\"data row6 col0\" >0.5651</td>\n",
       "      <td id=\"T_3e95e_row6_col1\" class=\"data row6 col1\" >0.5818</td>\n",
       "      <td id=\"T_3e95e_row6_col2\" class=\"data row6 col2\" >0.4678</td>\n",
       "      <td id=\"T_3e95e_row6_col3\" class=\"data row6 col3\" >0.5534</td>\n",
       "      <td id=\"T_3e95e_row6_col4\" class=\"data row6 col4\" >0.5070</td>\n",
       "      <td id=\"T_3e95e_row6_col5\" class=\"data row6 col5\" >0.1229</td>\n",
       "      <td id=\"T_3e95e_row6_col6\" class=\"data row6 col6\" >0.1243</td>\n",
       "    </tr>\n",
       "    <tr>\n",
       "      <th id=\"T_3e95e_level0_row7\" class=\"row_heading level0 row7\" >7</th>\n",
       "      <td id=\"T_3e95e_row7_col0\" class=\"data row7 col0\" >0.5563</td>\n",
       "      <td id=\"T_3e95e_row7_col1\" class=\"data row7 col1\" >0.5806</td>\n",
       "      <td id=\"T_3e95e_row7_col2\" class=\"data row7 col2\" >0.4530</td>\n",
       "      <td id=\"T_3e95e_row7_col3\" class=\"data row7 col3\" >0.5430</td>\n",
       "      <td id=\"T_3e95e_row7_col4\" class=\"data row7 col4\" >0.4940</td>\n",
       "      <td id=\"T_3e95e_row7_col5\" class=\"data row7 col5\" >0.1047</td>\n",
       "      <td id=\"T_3e95e_row7_col6\" class=\"data row7 col6\" >0.1061</td>\n",
       "    </tr>\n",
       "    <tr>\n",
       "      <th id=\"T_3e95e_level0_row8\" class=\"row_heading level0 row8\" >8</th>\n",
       "      <td id=\"T_3e95e_row8_col0\" class=\"data row8 col0\" >0.5783</td>\n",
       "      <td id=\"T_3e95e_row8_col1\" class=\"data row8 col1\" >0.5908</td>\n",
       "      <td id=\"T_3e95e_row8_col2\" class=\"data row8 col2\" >0.4577</td>\n",
       "      <td id=\"T_3e95e_row8_col3\" class=\"data row8 col3\" >0.5751</td>\n",
       "      <td id=\"T_3e95e_row8_col4\" class=\"data row8 col4\" >0.5097</td>\n",
       "      <td id=\"T_3e95e_row8_col5\" class=\"data row8 col5\" >0.1481</td>\n",
       "      <td id=\"T_3e95e_row8_col6\" class=\"data row8 col6\" >0.1511</td>\n",
       "    </tr>\n",
       "    <tr>\n",
       "      <th id=\"T_3e95e_level0_row9\" class=\"row_heading level0 row9\" >9</th>\n",
       "      <td id=\"T_3e95e_row9_col0\" class=\"data row9 col0\" >0.5709</td>\n",
       "      <td id=\"T_3e95e_row9_col1\" class=\"data row9 col1\" >0.5890</td>\n",
       "      <td id=\"T_3e95e_row9_col2\" class=\"data row9 col2\" >0.4862</td>\n",
       "      <td id=\"T_3e95e_row9_col3\" class=\"data row9 col3\" >0.5593</td>\n",
       "      <td id=\"T_3e95e_row9_col4\" class=\"data row9 col4\" >0.5202</td>\n",
       "      <td id=\"T_3e95e_row9_col5\" class=\"data row9 col5\" >0.1356</td>\n",
       "      <td id=\"T_3e95e_row9_col6\" class=\"data row9 col6\" >0.1367</td>\n",
       "    </tr>\n",
       "    <tr>\n",
       "      <th id=\"T_3e95e_level0_row10\" class=\"row_heading level0 row10\" >Mean</th>\n",
       "      <td id=\"T_3e95e_row10_col0\" class=\"data row10 col0\" >0.5720</td>\n",
       "      <td id=\"T_3e95e_row10_col1\" class=\"data row10 col1\" >0.5920</td>\n",
       "      <td id=\"T_3e95e_row10_col2\" class=\"data row10 col2\" >0.4749</td>\n",
       "      <td id=\"T_3e95e_row10_col3\" class=\"data row10 col3\" >0.5624</td>\n",
       "      <td id=\"T_3e95e_row10_col4\" class=\"data row10 col4\" >0.5148</td>\n",
       "      <td id=\"T_3e95e_row10_col5\" class=\"data row10 col5\" >0.1367</td>\n",
       "      <td id=\"T_3e95e_row10_col6\" class=\"data row10 col6\" >0.1384</td>\n",
       "    </tr>\n",
       "    <tr>\n",
       "      <th id=\"T_3e95e_level0_row11\" class=\"row_heading level0 row11\" >Std</th>\n",
       "      <td id=\"T_3e95e_row11_col0\" class=\"data row11 col0\" >0.0156</td>\n",
       "      <td id=\"T_3e95e_row11_col1\" class=\"data row11 col1\" >0.0158</td>\n",
       "      <td id=\"T_3e95e_row11_col2\" class=\"data row11 col2\" >0.0163</td>\n",
       "      <td id=\"T_3e95e_row11_col3\" class=\"data row11 col3\" >0.0207</td>\n",
       "      <td id=\"T_3e95e_row11_col4\" class=\"data row11 col4\" >0.0158</td>\n",
       "      <td id=\"T_3e95e_row11_col5\" class=\"data row11 col5\" >0.0310</td>\n",
       "      <td id=\"T_3e95e_row11_col6\" class=\"data row11 col6\" >0.0317</td>\n",
       "    </tr>\n",
       "  </tbody>\n",
       "</table>\n"
      ],
      "text/plain": [
       "\u001b[1m<\u001b[0m\u001b[1;95mpandas.io.formats.style.Styler\u001b[0m\u001b[39m object at \u001b[0m\u001b[1;36m0x000001973A852250\u001b[0m\u001b[1m>\u001b[0m"
      ]
     },
     "metadata": {},
     "output_type": "display_data"
    },
    {
     "data": {
      "text/html": [],
      "text/plain": [
       "\u001b[1m<\u001b[0m\u001b[1;95mIPython.core.display.HTML\u001b[0m\u001b[39m object\u001b[0m\u001b[1m>\u001b[0m"
      ]
     },
     "metadata": {},
     "output_type": "display_data"
    },
    {
     "data": {
      "text/html": [
       "<pre style=\"white-space:pre;overflow-x:auto;line-height:normal;font-family:Menlo,'DejaVu Sans Mono',consolas,'Courier New',monospace\"></pre>\n"
      ],
      "text/plain": []
     },
     "metadata": {},
     "output_type": "display_data"
    },
    {
     "data": {
      "text/html": [
       "<pre style=\"white-space:pre;overflow-x:auto;line-height:normal;font-family:Menlo,'DejaVu Sans Mono',consolas,'Courier New',monospace\"></pre>\n"
      ],
      "text/plain": []
     },
     "metadata": {},
     "output_type": "display_data"
    },
    {
     "data": {
      "text/html": [
       "<pre style=\"white-space:pre;overflow-x:auto;line-height:normal;font-family:Menlo,'DejaVu Sans Mono',consolas,'Courier New',monospace\"></pre>\n"
      ],
      "text/plain": []
     },
     "metadata": {},
     "output_type": "display_data"
    },
    {
     "data": {
      "text/html": [
       "<pre style=\"white-space:pre;overflow-x:auto;line-height:normal;font-family:Menlo,'DejaVu Sans Mono',consolas,'Courier New',monospace\"></pre>\n"
      ],
      "text/plain": []
     },
     "metadata": {},
     "output_type": "display_data"
    },
    {
     "data": {
      "text/html": [
       "<pre style=\"white-space:pre;overflow-x:auto;line-height:normal;font-family:Menlo,'DejaVu Sans Mono',consolas,'Courier New',monospace\"></pre>\n"
      ],
      "text/plain": []
     },
     "metadata": {},
     "output_type": "display_data"
    },
    {
     "data": {
      "text/html": [
       "<pre style=\"white-space:pre;overflow-x:auto;line-height:normal;font-family:Menlo,'DejaVu Sans Mono',consolas,'Courier New',monospace\"></pre>\n"
      ],
      "text/plain": []
     },
     "metadata": {},
     "output_type": "display_data"
    },
    {
     "data": {
      "text/html": [
       "<pre style=\"white-space:pre;overflow-x:auto;line-height:normal;font-family:Menlo,'DejaVu Sans Mono',consolas,'Courier New',monospace\"></pre>\n"
      ],
      "text/plain": []
     },
     "metadata": {},
     "output_type": "display_data"
    },
    {
     "data": {
      "text/html": [
       "<pre style=\"white-space:pre;overflow-x:auto;line-height:normal;font-family:Menlo,'DejaVu Sans Mono',consolas,'Courier New',monospace\"></pre>\n"
      ],
      "text/plain": []
     },
     "metadata": {},
     "output_type": "display_data"
    },
    {
     "data": {
      "text/html": [
       "<pre style=\"white-space:pre;overflow-x:auto;line-height:normal;font-family:Menlo,'DejaVu Sans Mono',consolas,'Courier New',monospace\"></pre>\n"
      ],
      "text/plain": []
     },
     "metadata": {},
     "output_type": "display_data"
    },
    {
     "data": {
      "text/html": [
       "<pre style=\"white-space:pre;overflow-x:auto;line-height:normal;font-family:Menlo,'DejaVu Sans Mono',consolas,'Courier New',monospace\"></pre>\n"
      ],
      "text/plain": []
     },
     "metadata": {},
     "output_type": "display_data"
    }
   ],
   "source": [
    "#criando uma seleçao de models\n",
    "logr = exp.create_model('lr')"
   ]
  },
  {
   "cell_type": "code",
   "execution_count": 7,
   "metadata": {},
   "outputs": [
    {
     "data": {
      "text/html": [
       "<pre style=\"white-space:pre;overflow-x:auto;line-height:normal;font-family:Menlo,'DejaVu Sans Mono',consolas,'Courier New',monospace\"></pre>\n"
      ],
      "text/plain": []
     },
     "metadata": {},
     "output_type": "display_data"
    },
    {
     "data": {
      "text/html": [
       "<div>\n",
       "<style scoped>\n",
       "    .dataframe tbody tr th:only-of-type {\n",
       "        vertical-align: middle;\n",
       "    }\n",
       "\n",
       "    .dataframe tbody tr th {\n",
       "        vertical-align: top;\n",
       "    }\n",
       "\n",
       "    .dataframe thead th {\n",
       "        text-align: right;\n",
       "    }\n",
       "</style>\n",
       "<table border=\"1\" class=\"dataframe\">\n",
       "  <thead>\n",
       "    <tr style=\"text-align: right;\">\n",
       "      <th></th>\n",
       "      <th>Accuracy</th>\n",
       "      <th>AUC</th>\n",
       "      <th>Recall</th>\n",
       "      <th>Prec.</th>\n",
       "      <th>F1</th>\n",
       "      <th>Kappa</th>\n",
       "      <th>MCC</th>\n",
       "    </tr>\n",
       "    <tr>\n",
       "      <th>Fold</th>\n",
       "      <th></th>\n",
       "      <th></th>\n",
       "      <th></th>\n",
       "      <th></th>\n",
       "      <th></th>\n",
       "      <th></th>\n",
       "      <th></th>\n",
       "    </tr>\n",
       "  </thead>\n",
       "  <tbody>\n",
       "    <tr>\n",
       "      <th>0</th>\n",
       "      <td>0.5660</td>\n",
       "      <td>0.5785</td>\n",
       "      <td>0.4696</td>\n",
       "      <td>0.5543</td>\n",
       "      <td>0.5085</td>\n",
       "      <td>0.1247</td>\n",
       "      <td>0.1261</td>\n",
       "    </tr>\n",
       "    <tr>\n",
       "      <th>1</th>\n",
       "      <td>0.5739</td>\n",
       "      <td>0.5774</td>\n",
       "      <td>0.5009</td>\n",
       "      <td>0.5608</td>\n",
       "      <td>0.5292</td>\n",
       "      <td>0.1424</td>\n",
       "      <td>0.1431</td>\n",
       "    </tr>\n",
       "    <tr>\n",
       "      <th>2</th>\n",
       "      <td>0.5519</td>\n",
       "      <td>0.5831</td>\n",
       "      <td>0.4751</td>\n",
       "      <td>0.5353</td>\n",
       "      <td>0.5034</td>\n",
       "      <td>0.0979</td>\n",
       "      <td>0.0984</td>\n",
       "    </tr>\n",
       "    <tr>\n",
       "      <th>3</th>\n",
       "      <td>0.5960</td>\n",
       "      <td>0.6117</td>\n",
       "      <td>0.4954</td>\n",
       "      <td>0.5925</td>\n",
       "      <td>0.5396</td>\n",
       "      <td>0.1847</td>\n",
       "      <td>0.1871</td>\n",
       "    </tr>\n",
       "    <tr>\n",
       "      <th>4</th>\n",
       "      <td>0.6021</td>\n",
       "      <td>0.6285</td>\n",
       "      <td>0.4880</td>\n",
       "      <td>0.6036</td>\n",
       "      <td>0.5397</td>\n",
       "      <td>0.1962</td>\n",
       "      <td>0.1996</td>\n",
       "    </tr>\n",
       "    <tr>\n",
       "      <th>5</th>\n",
       "      <td>0.5590</td>\n",
       "      <td>0.5989</td>\n",
       "      <td>0.4549</td>\n",
       "      <td>0.5465</td>\n",
       "      <td>0.4965</td>\n",
       "      <td>0.1100</td>\n",
       "      <td>0.1114</td>\n",
       "    </tr>\n",
       "    <tr>\n",
       "      <th>6</th>\n",
       "      <td>0.5651</td>\n",
       "      <td>0.5818</td>\n",
       "      <td>0.4678</td>\n",
       "      <td>0.5534</td>\n",
       "      <td>0.5070</td>\n",
       "      <td>0.1229</td>\n",
       "      <td>0.1243</td>\n",
       "    </tr>\n",
       "    <tr>\n",
       "      <th>7</th>\n",
       "      <td>0.5563</td>\n",
       "      <td>0.5806</td>\n",
       "      <td>0.4530</td>\n",
       "      <td>0.5430</td>\n",
       "      <td>0.4940</td>\n",
       "      <td>0.1047</td>\n",
       "      <td>0.1061</td>\n",
       "    </tr>\n",
       "    <tr>\n",
       "      <th>8</th>\n",
       "      <td>0.5783</td>\n",
       "      <td>0.5908</td>\n",
       "      <td>0.4577</td>\n",
       "      <td>0.5751</td>\n",
       "      <td>0.5097</td>\n",
       "      <td>0.1481</td>\n",
       "      <td>0.1511</td>\n",
       "    </tr>\n",
       "    <tr>\n",
       "      <th>9</th>\n",
       "      <td>0.5709</td>\n",
       "      <td>0.5890</td>\n",
       "      <td>0.4862</td>\n",
       "      <td>0.5593</td>\n",
       "      <td>0.5202</td>\n",
       "      <td>0.1356</td>\n",
       "      <td>0.1367</td>\n",
       "    </tr>\n",
       "    <tr>\n",
       "      <th>Mean</th>\n",
       "      <td>0.5720</td>\n",
       "      <td>0.5920</td>\n",
       "      <td>0.4749</td>\n",
       "      <td>0.5624</td>\n",
       "      <td>0.5148</td>\n",
       "      <td>0.1367</td>\n",
       "      <td>0.1384</td>\n",
       "    </tr>\n",
       "    <tr>\n",
       "      <th>Std</th>\n",
       "      <td>0.0156</td>\n",
       "      <td>0.0158</td>\n",
       "      <td>0.0163</td>\n",
       "      <td>0.0207</td>\n",
       "      <td>0.0158</td>\n",
       "      <td>0.0310</td>\n",
       "      <td>0.0317</td>\n",
       "    </tr>\n",
       "  </tbody>\n",
       "</table>\n",
       "</div>"
      ],
      "text/plain": [
       "\n",
       "      Accuracy     AUC  Recall   Prec.      F1   Kappa     MCC\n",
       "Fold                                                          \n",
       "\u001b[1;36m0\u001b[0m       \u001b[1;36m0.5660\u001b[0m  \u001b[1;36m0.5785\u001b[0m  \u001b[1;36m0.4696\u001b[0m  \u001b[1;36m0.5543\u001b[0m  \u001b[1;36m0.5085\u001b[0m  \u001b[1;36m0.1247\u001b[0m  \u001b[1;36m0.1261\u001b[0m\n",
       "\u001b[1;36m1\u001b[0m       \u001b[1;36m0.5739\u001b[0m  \u001b[1;36m0.5774\u001b[0m  \u001b[1;36m0.5009\u001b[0m  \u001b[1;36m0.5608\u001b[0m  \u001b[1;36m0.5292\u001b[0m  \u001b[1;36m0.1424\u001b[0m  \u001b[1;36m0.1431\u001b[0m\n",
       "\u001b[1;36m2\u001b[0m       \u001b[1;36m0.5519\u001b[0m  \u001b[1;36m0.5831\u001b[0m  \u001b[1;36m0.4751\u001b[0m  \u001b[1;36m0.5353\u001b[0m  \u001b[1;36m0.5034\u001b[0m  \u001b[1;36m0.0979\u001b[0m  \u001b[1;36m0.0984\u001b[0m\n",
       "\u001b[1;36m3\u001b[0m       \u001b[1;36m0.5960\u001b[0m  \u001b[1;36m0.6117\u001b[0m  \u001b[1;36m0.4954\u001b[0m  \u001b[1;36m0.5925\u001b[0m  \u001b[1;36m0.5396\u001b[0m  \u001b[1;36m0.1847\u001b[0m  \u001b[1;36m0.1871\u001b[0m\n",
       "\u001b[1;36m4\u001b[0m       \u001b[1;36m0.6021\u001b[0m  \u001b[1;36m0.6285\u001b[0m  \u001b[1;36m0.4880\u001b[0m  \u001b[1;36m0.6036\u001b[0m  \u001b[1;36m0.5397\u001b[0m  \u001b[1;36m0.1962\u001b[0m  \u001b[1;36m0.1996\u001b[0m\n",
       "\u001b[1;36m5\u001b[0m       \u001b[1;36m0.5590\u001b[0m  \u001b[1;36m0.5989\u001b[0m  \u001b[1;36m0.4549\u001b[0m  \u001b[1;36m0.5465\u001b[0m  \u001b[1;36m0.4965\u001b[0m  \u001b[1;36m0.1100\u001b[0m  \u001b[1;36m0.1114\u001b[0m\n",
       "\u001b[1;36m6\u001b[0m       \u001b[1;36m0.5651\u001b[0m  \u001b[1;36m0.5818\u001b[0m  \u001b[1;36m0.4678\u001b[0m  \u001b[1;36m0.5534\u001b[0m  \u001b[1;36m0.5070\u001b[0m  \u001b[1;36m0.1229\u001b[0m  \u001b[1;36m0.1243\u001b[0m\n",
       "\u001b[1;36m7\u001b[0m       \u001b[1;36m0.5563\u001b[0m  \u001b[1;36m0.5806\u001b[0m  \u001b[1;36m0.4530\u001b[0m  \u001b[1;36m0.5430\u001b[0m  \u001b[1;36m0.4940\u001b[0m  \u001b[1;36m0.1047\u001b[0m  \u001b[1;36m0.1061\u001b[0m\n",
       "\u001b[1;36m8\u001b[0m       \u001b[1;36m0.5783\u001b[0m  \u001b[1;36m0.5908\u001b[0m  \u001b[1;36m0.4577\u001b[0m  \u001b[1;36m0.5751\u001b[0m  \u001b[1;36m0.5097\u001b[0m  \u001b[1;36m0.1481\u001b[0m  \u001b[1;36m0.1511\u001b[0m\n",
       "\u001b[1;36m9\u001b[0m       \u001b[1;36m0.5709\u001b[0m  \u001b[1;36m0.5890\u001b[0m  \u001b[1;36m0.4862\u001b[0m  \u001b[1;36m0.5593\u001b[0m  \u001b[1;36m0.5202\u001b[0m  \u001b[1;36m0.1356\u001b[0m  \u001b[1;36m0.1367\u001b[0m\n",
       "Mean    \u001b[1;36m0.5720\u001b[0m  \u001b[1;36m0.5920\u001b[0m  \u001b[1;36m0.4749\u001b[0m  \u001b[1;36m0.5624\u001b[0m  \u001b[1;36m0.5148\u001b[0m  \u001b[1;36m0.1367\u001b[0m  \u001b[1;36m0.1384\u001b[0m\n",
       "Std     \u001b[1;36m0.0156\u001b[0m  \u001b[1;36m0.0158\u001b[0m  \u001b[1;36m0.0163\u001b[0m  \u001b[1;36m0.0207\u001b[0m  \u001b[1;36m0.0158\u001b[0m  \u001b[1;36m0.0310\u001b[0m  \u001b[1;36m0.0317\u001b[0m"
      ]
     },
     "execution_count": 7,
     "metadata": {},
     "output_type": "execute_result"
    }
   ],
   "source": [
    "exp.pull()"
   ]
  },
  {
   "cell_type": "code",
   "execution_count": 8,
   "metadata": {},
   "outputs": [
    {
     "data": {
      "application/vnd.jupyter.widget-view+json": {
       "model_id": "8f3bb03a2a1042689446164cedc59530",
       "version_major": 2,
       "version_minor": 0
      },
      "text/plain": [
       "interactive(children=(ToggleButtons(description='Plot Type:', icons=('',), options=(('Pipeline Plot', 'pipelin…"
      ]
     },
     "metadata": {},
     "output_type": "display_data"
    }
   ],
   "source": [
    "\n",
    "exp.evaluate_model(logr)"
   ]
  },
  {
   "cell_type": "code",
   "execution_count": 9,
   "metadata": {},
   "outputs": [
    {
     "data": {
      "text/html": [
       "<pre style=\"white-space:pre;overflow-x:auto;line-height:normal;font-family:Menlo,'DejaVu Sans Mono',consolas,'Courier New',monospace\"></pre>\n"
      ],
      "text/plain": []
     },
     "metadata": {},
     "output_type": "display_data"
    },
    {
     "data": {
      "text/html": [],
      "text/plain": [
       "\u001b[1m<\u001b[0m\u001b[1;95mIPython.core.display.HTML\u001b[0m\u001b[39m object\u001b[0m\u001b[1m>\u001b[0m"
      ]
     },
     "metadata": {},
     "output_type": "display_data"
    },
    {
     "data": {
      "text/html": [
       "<pre style=\"white-space:pre;overflow-x:auto;line-height:normal;font-family:Menlo,'DejaVu Sans Mono',consolas,'Courier New',monospace\"></pre>\n"
      ],
      "text/plain": []
     },
     "metadata": {},
     "output_type": "display_data"
    },
    {
     "data": {
      "text/html": [
       "<style type=\"text/css\">\n",
       "#T_83d44_row10_col0, #T_83d44_row10_col1, #T_83d44_row10_col2, #T_83d44_row10_col3, #T_83d44_row10_col4, #T_83d44_row10_col5, #T_83d44_row10_col6 {\n",
       "  background: yellow;\n",
       "}\n",
       "</style>\n",
       "<table id=\"T_83d44\">\n",
       "  <thead>\n",
       "    <tr>\n",
       "      <th class=\"blank level0\" >&nbsp;</th>\n",
       "      <th id=\"T_83d44_level0_col0\" class=\"col_heading level0 col0\" >Accuracy</th>\n",
       "      <th id=\"T_83d44_level0_col1\" class=\"col_heading level0 col1\" >AUC</th>\n",
       "      <th id=\"T_83d44_level0_col2\" class=\"col_heading level0 col2\" >Recall</th>\n",
       "      <th id=\"T_83d44_level0_col3\" class=\"col_heading level0 col3\" >Prec.</th>\n",
       "      <th id=\"T_83d44_level0_col4\" class=\"col_heading level0 col4\" >F1</th>\n",
       "      <th id=\"T_83d44_level0_col5\" class=\"col_heading level0 col5\" >Kappa</th>\n",
       "      <th id=\"T_83d44_level0_col6\" class=\"col_heading level0 col6\" >MCC</th>\n",
       "    </tr>\n",
       "    <tr>\n",
       "      <th class=\"index_name level0\" >Fold</th>\n",
       "      <th class=\"blank col0\" >&nbsp;</th>\n",
       "      <th class=\"blank col1\" >&nbsp;</th>\n",
       "      <th class=\"blank col2\" >&nbsp;</th>\n",
       "      <th class=\"blank col3\" >&nbsp;</th>\n",
       "      <th class=\"blank col4\" >&nbsp;</th>\n",
       "      <th class=\"blank col5\" >&nbsp;</th>\n",
       "      <th class=\"blank col6\" >&nbsp;</th>\n",
       "    </tr>\n",
       "  </thead>\n",
       "  <tbody>\n",
       "    <tr>\n",
       "      <th id=\"T_83d44_level0_row0\" class=\"row_heading level0 row0\" >0</th>\n",
       "      <td id=\"T_83d44_row0_col0\" class=\"data row0 col0\" >0.5572</td>\n",
       "      <td id=\"T_83d44_row0_col1\" class=\"data row0 col1\" >0.5786</td>\n",
       "      <td id=\"T_83d44_row0_col2\" class=\"data row0 col2\" >0.5120</td>\n",
       "      <td id=\"T_83d44_row0_col3\" class=\"data row0 col3\" >0.5388</td>\n",
       "      <td id=\"T_83d44_row0_col4\" class=\"data row0 col4\" >0.5250</td>\n",
       "      <td id=\"T_83d44_row0_col5\" class=\"data row0 col5\" >0.1109</td>\n",
       "      <td id=\"T_83d44_row0_col6\" class=\"data row0 col6\" >0.1110</td>\n",
       "    </tr>\n",
       "    <tr>\n",
       "      <th id=\"T_83d44_level0_row1\" class=\"row_heading level0 row1\" >1</th>\n",
       "      <td id=\"T_83d44_row1_col0\" class=\"data row1 col0\" >0.5722</td>\n",
       "      <td id=\"T_83d44_row1_col1\" class=\"data row1 col1\" >0.5774</td>\n",
       "      <td id=\"T_83d44_row1_col2\" class=\"data row1 col2\" >0.5525</td>\n",
       "      <td id=\"T_83d44_row1_col3\" class=\"data row1 col3\" >0.5525</td>\n",
       "      <td id=\"T_83d44_row1_col4\" class=\"data row1 col4\" >0.5525</td>\n",
       "      <td id=\"T_83d44_row1_col5\" class=\"data row1 col5\" >0.1427</td>\n",
       "      <td id=\"T_83d44_row1_col6\" class=\"data row1 col6\" >0.1427</td>\n",
       "    </tr>\n",
       "    <tr>\n",
       "      <th id=\"T_83d44_level0_row2\" class=\"row_heading level0 row2\" >2</th>\n",
       "      <td id=\"T_83d44_row2_col0\" class=\"data row2 col0\" >0.5546</td>\n",
       "      <td id=\"T_83d44_row2_col1\" class=\"data row2 col1\" >0.5831</td>\n",
       "      <td id=\"T_83d44_row2_col2\" class=\"data row2 col2\" >0.5433</td>\n",
       "      <td id=\"T_83d44_row2_col3\" class=\"data row2 col3\" >0.5335</td>\n",
       "      <td id=\"T_83d44_row2_col4\" class=\"data row2 col4\" >0.5383</td>\n",
       "      <td id=\"T_83d44_row2_col5\" class=\"data row2 col5\" >0.1081</td>\n",
       "      <td id=\"T_83d44_row2_col6\" class=\"data row2 col6\" >0.1081</td>\n",
       "    </tr>\n",
       "    <tr>\n",
       "      <th id=\"T_83d44_level0_row3\" class=\"row_heading level0 row3\" >3</th>\n",
       "      <td id=\"T_83d44_row3_col0\" class=\"data row3 col0\" >0.6021</td>\n",
       "      <td id=\"T_83d44_row3_col1\" class=\"data row3 col1\" >0.6117</td>\n",
       "      <td id=\"T_83d44_row3_col2\" class=\"data row3 col2\" >0.5599</td>\n",
       "      <td id=\"T_83d44_row3_col3\" class=\"data row3 col3\" >0.5880</td>\n",
       "      <td id=\"T_83d44_row3_col4\" class=\"data row3 col4\" >0.5736</td>\n",
       "      <td id=\"T_83d44_row3_col5\" class=\"data row3 col5\" >0.2011</td>\n",
       "      <td id=\"T_83d44_row3_col6\" class=\"data row3 col6\" >0.2013</td>\n",
       "    </tr>\n",
       "    <tr>\n",
       "      <th id=\"T_83d44_level0_row4\" class=\"row_heading level0 row4\" >4</th>\n",
       "      <td id=\"T_83d44_row4_col0\" class=\"data row4 col0\" >0.5933</td>\n",
       "      <td id=\"T_83d44_row4_col1\" class=\"data row4 col1\" >0.6287</td>\n",
       "      <td id=\"T_83d44_row4_col2\" class=\"data row4 col2\" >0.5359</td>\n",
       "      <td id=\"T_83d44_row4_col3\" class=\"data row4 col3\" >0.5808</td>\n",
       "      <td id=\"T_83d44_row4_col4\" class=\"data row4 col4\" >0.5575</td>\n",
       "      <td id=\"T_83d44_row4_col5\" class=\"data row4 col5\" >0.1824</td>\n",
       "      <td id=\"T_83d44_row4_col6\" class=\"data row4 col6\" >0.1829</td>\n",
       "    </tr>\n",
       "    <tr>\n",
       "      <th id=\"T_83d44_level0_row5\" class=\"row_heading level0 row5\" >5</th>\n",
       "      <td id=\"T_83d44_row5_col0\" class=\"data row5 col0\" >0.5555</td>\n",
       "      <td id=\"T_83d44_row5_col1\" class=\"data row5 col1\" >0.5987</td>\n",
       "      <td id=\"T_83d44_row5_col2\" class=\"data row5 col2\" >0.5083</td>\n",
       "      <td id=\"T_83d44_row5_col3\" class=\"data row5 col3\" >0.5370</td>\n",
       "      <td id=\"T_83d44_row5_col4\" class=\"data row5 col4\" >0.5222</td>\n",
       "      <td id=\"T_83d44_row5_col5\" class=\"data row5 col5\" >0.1072</td>\n",
       "      <td id=\"T_83d44_row5_col6\" class=\"data row5 col6\" >0.1073</td>\n",
       "    </tr>\n",
       "    <tr>\n",
       "      <th id=\"T_83d44_level0_row6\" class=\"row_heading level0 row6\" >6</th>\n",
       "      <td id=\"T_83d44_row6_col0\" class=\"data row6 col0\" >0.5651</td>\n",
       "      <td id=\"T_83d44_row6_col1\" class=\"data row6 col1\" >0.5819</td>\n",
       "      <td id=\"T_83d44_row6_col2\" class=\"data row6 col2\" >0.5359</td>\n",
       "      <td id=\"T_83d44_row6_col3\" class=\"data row6 col3\" >0.5460</td>\n",
       "      <td id=\"T_83d44_row6_col4\" class=\"data row6 col4\" >0.5409</td>\n",
       "      <td id=\"T_83d44_row6_col5\" class=\"data row6 col5\" >0.1279</td>\n",
       "      <td id=\"T_83d44_row6_col6\" class=\"data row6 col6\" >0.1279</td>\n",
       "    </tr>\n",
       "    <tr>\n",
       "      <th id=\"T_83d44_level0_row7\" class=\"row_heading level0 row7\" >7</th>\n",
       "      <td id=\"T_83d44_row7_col0\" class=\"data row7 col0\" >0.5519</td>\n",
       "      <td id=\"T_83d44_row7_col1\" class=\"data row7 col1\" >0.5808</td>\n",
       "      <td id=\"T_83d44_row7_col2\" class=\"data row7 col2\" >0.5101</td>\n",
       "      <td id=\"T_83d44_row7_col3\" class=\"data row7 col3\" >0.5327</td>\n",
       "      <td id=\"T_83d44_row7_col4\" class=\"data row7 col4\" >0.5212</td>\n",
       "      <td id=\"T_83d44_row7_col5\" class=\"data row7 col5\" >0.1005</td>\n",
       "      <td id=\"T_83d44_row7_col6\" class=\"data row7 col6\" >0.1006</td>\n",
       "    </tr>\n",
       "    <tr>\n",
       "      <th id=\"T_83d44_level0_row8\" class=\"row_heading level0 row8\" >8</th>\n",
       "      <td id=\"T_83d44_row8_col0\" class=\"data row8 col0\" >0.5748</td>\n",
       "      <td id=\"T_83d44_row8_col1\" class=\"data row8 col1\" >0.5909</td>\n",
       "      <td id=\"T_83d44_row8_col2\" class=\"data row8 col2\" >0.5202</td>\n",
       "      <td id=\"T_83d44_row8_col3\" class=\"data row8 col3\" >0.5604</td>\n",
       "      <td id=\"T_83d44_row8_col4\" class=\"data row8 col4\" >0.5396</td>\n",
       "      <td id=\"T_83d44_row8_col5\" class=\"data row8 col5\" >0.1456</td>\n",
       "      <td id=\"T_83d44_row8_col6\" class=\"data row8 col6\" >0.1460</td>\n",
       "    </tr>\n",
       "    <tr>\n",
       "      <th id=\"T_83d44_level0_row9\" class=\"row_heading level0 row9\" >9</th>\n",
       "      <td id=\"T_83d44_row9_col0\" class=\"data row9 col0\" >0.5551</td>\n",
       "      <td id=\"T_83d44_row9_col1\" class=\"data row9 col1\" >0.5892</td>\n",
       "      <td id=\"T_83d44_row9_col2\" class=\"data row9 col2\" >0.5175</td>\n",
       "      <td id=\"T_83d44_row9_col3\" class=\"data row9 col3\" >0.5363</td>\n",
       "      <td id=\"T_83d44_row9_col4\" class=\"data row9 col4\" >0.5267</td>\n",
       "      <td id=\"T_83d44_row9_col5\" class=\"data row9 col5\" >0.1072</td>\n",
       "      <td id=\"T_83d44_row9_col6\" class=\"data row9 col6\" >0.1072</td>\n",
       "    </tr>\n",
       "    <tr>\n",
       "      <th id=\"T_83d44_level0_row10\" class=\"row_heading level0 row10\" >Mean</th>\n",
       "      <td id=\"T_83d44_row10_col0\" class=\"data row10 col0\" >0.5682</td>\n",
       "      <td id=\"T_83d44_row10_col1\" class=\"data row10 col1\" >0.5921</td>\n",
       "      <td id=\"T_83d44_row10_col2\" class=\"data row10 col2\" >0.5296</td>\n",
       "      <td id=\"T_83d44_row10_col3\" class=\"data row10 col3\" >0.5506</td>\n",
       "      <td id=\"T_83d44_row10_col4\" class=\"data row10 col4\" >0.5397</td>\n",
       "      <td id=\"T_83d44_row10_col5\" class=\"data row10 col5\" >0.1334</td>\n",
       "      <td id=\"T_83d44_row10_col6\" class=\"data row10 col6\" >0.1335</td>\n",
       "    </tr>\n",
       "    <tr>\n",
       "      <th id=\"T_83d44_level0_row11\" class=\"row_heading level0 row11\" >Std</th>\n",
       "      <td id=\"T_83d44_row11_col0\" class=\"data row11 col0\" >0.0166</td>\n",
       "      <td id=\"T_83d44_row11_col1\" class=\"data row11 col1\" >0.0158</td>\n",
       "      <td id=\"T_83d44_row11_col2\" class=\"data row11 col2\" >0.0176</td>\n",
       "      <td id=\"T_83d44_row11_col3\" class=\"data row11 col3\" >0.0189</td>\n",
       "      <td id=\"T_83d44_row11_col4\" class=\"data row11 col4\" >0.0163</td>\n",
       "      <td id=\"T_83d44_row11_col5\" class=\"data row11 col5\" >0.0329</td>\n",
       "      <td id=\"T_83d44_row11_col6\" class=\"data row11 col6\" >0.0330</td>\n",
       "    </tr>\n",
       "  </tbody>\n",
       "</table>\n"
      ],
      "text/plain": [
       "\u001b[1m<\u001b[0m\u001b[1;95mpandas.io.formats.style.Styler\u001b[0m\u001b[39m object at \u001b[0m\u001b[1;36m0x000001973A79F9D0\u001b[0m\u001b[1m>\u001b[0m"
      ]
     },
     "metadata": {},
     "output_type": "display_data"
    },
    {
     "data": {
      "text/html": [],
      "text/plain": [
       "\u001b[1m<\u001b[0m\u001b[1;95mIPython.core.display.HTML\u001b[0m\u001b[39m object\u001b[0m\u001b[1m>\u001b[0m"
      ]
     },
     "metadata": {},
     "output_type": "display_data"
    },
    {
     "data": {
      "text/html": [
       "<pre style=\"white-space:pre;overflow-x:auto;line-height:normal;font-family:Menlo,'DejaVu Sans Mono',consolas,'Courier New',monospace\"></pre>\n"
      ],
      "text/plain": []
     },
     "metadata": {},
     "output_type": "display_data"
    },
    {
     "data": {
      "text/html": [
       "<pre style=\"white-space:pre;overflow-x:auto;line-height:normal;font-family:Menlo,'DejaVu Sans Mono',consolas,'Courier New',monospace\"></pre>\n"
      ],
      "text/plain": []
     },
     "metadata": {},
     "output_type": "display_data"
    },
    {
     "name": "stdout",
     "output_type": "stream",
     "text": [
      "Fitting 10 folds for each of 100 candidates, totalling 1000 fits\n"
     ]
    },
    {
     "data": {
      "text/html": [
       "<pre style=\"white-space:pre;overflow-x:auto;line-height:normal;font-family:Menlo,'DejaVu Sans Mono',consolas,'Courier New',monospace\"></pre>\n"
      ],
      "text/plain": []
     },
     "metadata": {},
     "output_type": "display_data"
    },
    {
     "data": {
      "text/html": [
       "<pre style=\"white-space:pre;overflow-x:auto;line-height:normal;font-family:Menlo,'DejaVu Sans Mono',consolas,'Courier New',monospace\"></pre>\n"
      ],
      "text/plain": []
     },
     "metadata": {},
     "output_type": "display_data"
    },
    {
     "data": {
      "text/html": [
       "<pre style=\"white-space:pre;overflow-x:auto;line-height:normal;font-family:Menlo,'DejaVu Sans Mono',consolas,'Courier New',monospace\"></pre>\n"
      ],
      "text/plain": []
     },
     "metadata": {},
     "output_type": "display_data"
    },
    {
     "data": {
      "text/html": [
       "<pre style=\"white-space:pre;overflow-x:auto;line-height:normal;font-family:Menlo,'DejaVu Sans Mono',consolas,'Courier New',monospace\"></pre>\n"
      ],
      "text/plain": []
     },
     "metadata": {},
     "output_type": "display_data"
    },
    {
     "data": {
      "text/html": [
       "<pre style=\"white-space:pre;overflow-x:auto;line-height:normal;font-family:Menlo,'DejaVu Sans Mono',consolas,'Courier New',monospace\"></pre>\n"
      ],
      "text/plain": []
     },
     "metadata": {},
     "output_type": "display_data"
    },
    {
     "data": {
      "text/html": [
       "<pre style=\"white-space:pre;overflow-x:auto;line-height:normal;font-family:Menlo,'DejaVu Sans Mono',consolas,'Courier New',monospace\"></pre>\n"
      ],
      "text/plain": []
     },
     "metadata": {},
     "output_type": "display_data"
    },
    {
     "data": {
      "text/html": [
       "<pre style=\"white-space:pre;overflow-x:auto;line-height:normal;font-family:Menlo,'DejaVu Sans Mono',consolas,'Courier New',monospace\"></pre>\n"
      ],
      "text/plain": []
     },
     "metadata": {},
     "output_type": "display_data"
    },
    {
     "data": {
      "text/html": [
       "<pre style=\"white-space:pre;overflow-x:auto;line-height:normal;font-family:Menlo,'DejaVu Sans Mono',consolas,'Courier New',monospace\"></pre>\n"
      ],
      "text/plain": []
     },
     "metadata": {},
     "output_type": "display_data"
    },
    {
     "data": {
      "text/html": [
       "<pre style=\"white-space:pre;overflow-x:auto;line-height:normal;font-family:Menlo,'DejaVu Sans Mono',consolas,'Courier New',monospace\"></pre>\n"
      ],
      "text/plain": []
     },
     "metadata": {},
     "output_type": "display_data"
    },
    {
     "data": {
      "text/html": [
       "<pre style=\"white-space:pre;overflow-x:auto;line-height:normal;font-family:Menlo,'DejaVu Sans Mono',consolas,'Courier New',monospace\"></pre>\n"
      ],
      "text/plain": []
     },
     "metadata": {},
     "output_type": "display_data"
    },
    {
     "data": {
      "text/html": [
       "<pre style=\"white-space:pre;overflow-x:auto;line-height:normal;font-family:Menlo,'DejaVu Sans Mono',consolas,'Courier New',monospace\"></pre>\n"
      ],
      "text/plain": []
     },
     "metadata": {},
     "output_type": "display_data"
    }
   ],
   "source": [
    "tuned_model = exp.tune_model(logr, n_iter=100, optimize='AUC')"
   ]
  },
  {
   "cell_type": "code",
   "execution_count": 10,
   "metadata": {},
   "outputs": [
    {
     "data": {
      "text/html": [
       "<pre style=\"white-space:pre;overflow-x:auto;line-height:normal;font-family:Menlo,'DejaVu Sans Mono',consolas,'Courier New',monospace\"></pre>\n"
      ],
      "text/plain": []
     },
     "metadata": {},
     "output_type": "display_data"
    },
    {
     "data": {
      "text/html": [],
      "text/plain": [
       "\u001b[1m<\u001b[0m\u001b[1;95mIPython.core.display.HTML\u001b[0m\u001b[39m object\u001b[0m\u001b[1m>\u001b[0m"
      ]
     },
     "metadata": {},
     "output_type": "display_data"
    },
    {
     "data": {
      "text/html": [
       "<pre style=\"white-space:pre;overflow-x:auto;line-height:normal;font-family:Menlo,'DejaVu Sans Mono',consolas,'Courier New',monospace\"></pre>\n"
      ],
      "text/plain": []
     },
     "metadata": {},
     "output_type": "display_data"
    },
    {
     "data": {
      "image/png": "[encoded data removed]",
      "text/plain": [
       "\u001b[1m<\u001b[0m\u001b[1;95mFigure\u001b[0m\u001b[39m size 80\u001b[0m\u001b[1;36m0x550\u001b[0m\u001b[39m with \u001b[0m\u001b[1;36m1\u001b[0m\u001b[39m Axes\u001b[0m\u001b[1m>\u001b[0m"
      ]
     },
     "metadata": {},
     "output_type": "display_data"
    }
   ],
   "source": [
    "# Mostrar o gráfico\n",
    "exp.plot_model(tuned_model, plot='auc')\n"
   ]
  }
 ],
 "metadata": {
  "kernelspec": {
   "display_name": "Kedro (kobe)",
   "language": "python",
   "name": "kedro_kobe"
  },
  "language_info": {
   "codemirror_mode": {
    "name": "ipython",
    "version": 3
   },
   "file_extension": ".py",
   "mimetype": "text/x-python",
   "name": "python",
   "nbconvert_exporter": "python",
   "pygments_lexer": "ipython3",
   "version": "3.11.3"
  }
 },
 "nbformat": 4,
 "nbformat_minor": 2
}
